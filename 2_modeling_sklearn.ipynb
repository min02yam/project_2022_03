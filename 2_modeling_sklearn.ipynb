{
  "nbformat": 4,
  "nbformat_minor": 0,
  "metadata": {
    "colab": {
      "provenance": [],
      "include_colab_link": true
    },
    "kernelspec": {
      "name": "python3",
      "display_name": "Python 3"
    },
    "language_info": {
      "name": "python"
    }
  },
  "cells": [
    {
      "cell_type": "markdown",
      "metadata": {
        "id": "view-in-github",
        "colab_type": "text"
      },
      "source": [
        "<a href=\"https://colab.research.google.com/github/min02yam/project_2022_03/blob/main/2_modeling_sklearn.ipynb\" target=\"_parent\"><img src=\"https://colab.research.google.com/assets/colab-badge.svg\" alt=\"Open In Colab\"/></a>"
      ]
    },
    {
      "cell_type": "code",
      "execution_count": null,
      "metadata": {
        "colab": {
          "base_uri": "https://localhost:8080/"
        },
        "id": "r7dgvA_dWg71",
        "outputId": "2f57f38a-68c6-41ec-a1cb-88f0c78ba039"
      },
      "outputs": [
        {
          "output_type": "stream",
          "name": "stdout",
          "text": [
            "Drive already mounted at /content/drive; to attempt to forcibly remount, call drive.mount(\"/content/drive\", force_remount=True).\n"
          ]
        }
      ],
      "source": [
        "import warnings\n",
        "warnings.filterwarnings(action='ignore') \n",
        "from google.colab import drive\n",
        "drive.mount('/content/drive')"
      ]
    },
    {
      "cell_type": "code",
      "source": [
        "import pandas as pd\n",
        "train = pd.read_csv(\"/content/drive/MyDrive/2022_03/data/train_final.csv\")\n",
        "test = pd.read_csv(\"/content/drive/MyDrive/2022_03/data/test_final.csv\")\n",
        "submission = pd.read_csv(\"/content/drive/MyDrive/2022_03/data/sample_submission.csv\")\n",
        "\n",
        "feature = train.drop(['predicted_weight_g'],axis=1).columns\n",
        "target = 'predicted_weight_g'"
      ],
      "metadata": {
        "id": "con_Uqd1Wua4"
      },
      "execution_count": null,
      "outputs": []
    },
    {
      "cell_type": "code",
      "source": [
        "import random\n",
        "import os\n",
        "import numpy as np\n",
        "def set_seed(seed):\n",
        "    random.seed(seed)\n",
        "    os.environ['PYTHONHASHSEED'] = str(seed)\n",
        "    np.random.seed(seed)\n",
        "set_seed(49)"
      ],
      "metadata": {
        "id": "bYyp4peX_yn0"
      },
      "execution_count": null,
      "outputs": []
    },
    {
      "cell_type": "code",
      "source": [
        "from sklearn.preprocessing import MinMaxScaler, StandardScaler \n",
        "from sklearn.pipeline import Pipeline \n",
        "from sklearn.model_selection import GridSearchCV \n",
        "\n",
        "from sklearn.linear_model import LinearRegression, Ridge, RidgeCV, Lasso, LassoCV, ElasticNet, RANSACRegressor\n",
        "from sklearn.neighbors import KNeighborsRegressor\n",
        "from sklearn.svm import SVR\n",
        "from sklearn.tree import DecisionTreeRegressor\n",
        "from sklearn.ensemble import RandomForestRegressor, AdaBoostRegressor,GradientBoostingRegressor, VotingRegressor, StackingRegressor\n",
        "from sklearn.neural_network import MLPRegressor\n",
        "\n",
        "from xgboost import XGBRegressor\n",
        "from lightgbm import LGBMRegressor\n",
        "#from catboost import CatBoostRegressor\n",
        "\n",
        "pip = Pipeline(((\"preprocess\", MinMaxScaler()), (\"regressor\", LinearRegression()))) \n",
        "grid_parm = [\n",
        "    \n",
        "    {'preprocess': [StandardScaler(), MinMaxScaler()],\n",
        "     'regressor': [LinearRegression()]},\n",
        "     \n",
        "     {'preprocess': [StandardScaler(), MinMaxScaler()],\n",
        "     'regressor': [Ridge()],\n",
        "      'regressor__alpha': [0.1, 0.3, 1, 3, 5, 10, 15, 30, 50, 75]},\n",
        "     \n",
        "     {'preprocess': [StandardScaler(), MinMaxScaler()],\n",
        "     'regressor': [Lasso()]},\n",
        "\n",
        "    {'preprocess': [StandardScaler(), MinMaxScaler()],\n",
        "     'regressor': [ElasticNet()],\n",
        "     'regressor__alpha' : np.arange(1e-4,1e-3,1e-4).tolist(),\n",
        "     'regressor__l1_ratio': np.arange(0.1,1.0,0.1).tolist(),\n",
        "     'regressor__max_iter':[100000]\n",
        "\n",
        "    {'preprocess': [StandardScaler(), MinMaxScaler()],\n",
        "     'regressor': [KNeighborsRegressor()],\n",
        "     'regressor__n_neighbors': list(range(1,25,2))},\n",
        "     \n",
        "     {'preprocess': [StandardScaler(), MinMaxScaler()],\n",
        "     'regressor': [SVR()],\n",
        "     'regressor__kernel': ['linear', 'poly', 'rbf', 'sigmoid']},\n",
        "     \n",
        "     {'preprocess':[None],\n",
        "      'regressor': [DecisionTreeRegressor()],\n",
        "      'regressor__max_depth': list(range(2,15)),\n",
        "      'regressor__max_leaf_nodes': [5, 50, 500, 5000]},\n",
        "    \n",
        "     {'preprocess':[None],\n",
        "      'regressor': [RandomForestRegressor()],\n",
        "      'regressor__n_estimators': [50,100,150]},\n",
        "      \n",
        "      {'preprocess':[None],\n",
        "      'regressor': [AdaBoostRegressor()],\n",
        "      'regressor__n_estimators': [50,100,150]},     \n",
        "\n",
        "      {'preprocess':[None],\n",
        "      'regressor': [GradientBoostingRegressor()],\n",
        "      'regressor__n_estimators': [50,100,150]},\n",
        "      \n",
        "     {'preprocess':[None],\n",
        "      'regressor': [XGBRegressor()],\n",
        "      'regressor__objective' : ['reg:squarederror'],\n",
        "      'regressor__n_estimators': list(range(100, 3600,100)),\n",
        "      'regressor__max_depth': list(range(2,10)),\n",
        "      'regressor__eta' :  list(np.arange(1e-4,1e-3,1e-4)),\n",
        "      'regressor__subsample' : [0.5,0.6,0.7,0.8]},\n",
        "\n",
        "     {'preprocess':[None],\n",
        "      'regressor': [LGBMRegressor()]},\n",
        "\n",
        "     {'preprocess':[StandardScaler(), MinMaxScaler()],\n",
        "      'regressor': [MLPRegressor()],\n",
        "      'regressor__hidden_layer_sizes': [(100,),(100,100),(100,100,100)],  # 세번째, 히든레이어 세개, 노드개수 100개\n",
        "      'regressor__max_iter' :[1000]}      \n",
        "\n",
        "]\n",
        "\n",
        "from sklearn.inspection import permutation_importance \n",
        "from sklearn.metrics import mean_squared_error, make_scorer\n",
        "def root_mean_squared_error(y_test, y_pred):\n",
        "    y_test, y_pred = np.array(y_test), np.array(y_pred)\n",
        "    return mean_squared_error(y_test, y_pred,squared=False )\n",
        "\n",
        "grid_m = GridSearchCV(pip, \n",
        "                      grid_parm, \n",
        "                      cv = 5,\n",
        "                      return_train_score=True, \n",
        "                      verbose=3,\n",
        "                      scoring = root_mean_squared_error)\n",
        "\n",
        "grid_m.fit(train[feature], train[target])"
      ],
      "metadata": {
        "id": "3oItiE3YEoiJ"
      },
      "execution_count": null,
      "outputs": []
    },
    {
      "cell_type": "code",
      "source": [
        "grid_m.best_estimator_"
      ],
      "metadata": {
        "colab": {
          "base_uri": "https://localhost:8080/"
        },
        "id": "qUhs4tZPJXYB",
        "outputId": "bcd99827-b907-41e7-8727-ed769331d1ca"
      },
      "execution_count": null,
      "outputs": [
        {
          "output_type": "execute_result",
          "data": {
            "text/plain": [
              "Pipeline(steps=[('preprocess', MinMaxScaler()),\n",
              "                ('regressor',\n",
              "                 MLPRegressor(hidden_layer_sizes=(100, 100), max_iter=1000))])"
            ]
          },
          "metadata": {},
          "execution_count": 123
        }
      ]
    },
    {
      "cell_type": "code",
      "source": [
        "best_medel = grid_m.best_estimator_\n",
        "pred = best_medel.predict(test[feature])\n",
        "\n",
        "submission['predicted_weight_g'] = pred\n",
        "submission['case'] = test['case']\n",
        "\n",
        "submission.to_csv('mlp_10_0.csv', index=False)\n",
        "submission.head()"
      ],
      "metadata": {
        "id": "iAilxRl6ipeo"
      },
      "execution_count": null,
      "outputs": []
    },
    {
      "cell_type": "code",
      "source": [
        "from sklearn.inspection import permutation_importance \n",
        "from sklearn.metrics import mean_squared_error, make_scorer\n",
        "\n",
        "# RMSE\n",
        "def root_mean_squared_error(y_test, y_pred):\n",
        "    y_test, y_pred = np.array(y_test), np.array(y_pred)\n",
        "    return mean_squared_error(y_test, y_pred,squared=False )\n",
        "\n",
        "\n",
        "result = permutation_importance(best_medel, train[feature], train[target], scoring = make_scorer(root_mean_squared_error,greater_is_better=False),\n",
        "                            n_repeats=30)\n",
        "# Feature label\n",
        "Feature = train[feature] \n",
        "sorted_result = result.importances_mean.argsort()\n",
        "\n",
        "# DataFrame\n",
        "importances = pd.DataFrame(result.importances_mean[sorted_result], index=Feature.columns[sorted_result]).sort_values(0, ascending=False)   \n",
        "importances"
      ],
      "metadata": {
        "id": "um3fBmxTFEJt"
      },
      "execution_count": null,
      "outputs": []
    },
    {
      "cell_type": "code",
      "source": [
        "grid_m.best_params_"
      ],
      "metadata": {
        "id": "NyLiMiNtSZ8R"
      },
      "execution_count": null,
      "outputs": []
    },
    {
      "cell_type": "code",
      "source": [
        "best_medel = grid_m.best_estimator_"
      ],
      "metadata": {
        "id": "biVchb21dmzC"
      },
      "execution_count": null,
      "outputs": []
    },
    {
      "cell_type": "code",
      "source": [
        "grid_m.best_index_"
      ],
      "metadata": {
        "id": "949mkgr1a9IR"
      },
      "execution_count": null,
      "outputs": []
    },
    {
      "cell_type": "code",
      "source": [
        "param_grid "
      ],
      "metadata": {
        "colab": {
          "base_uri": "https://localhost:8080/"
        },
        "id": "r7NqD1vgQ6j_",
        "outputId": "6d9ad764-da3e-4237-89da-27572483a8a5"
      },
      "execution_count": null,
      "outputs": [
        {
          "output_type": "execute_result",
          "data": {
            "text/plain": [
              "{'alpha': array([0.0001, 0.0002, 0.0003, 0.0004, 0.0005, 0.0006, 0.0007, 0.0008,\n",
              "        0.0009]),\n",
              " 'l1_ratio': array([0.1, 0.2, 0.3, 0.4, 0.5, 0.6, 0.7, 0.8, 0.9]),\n",
              " 'max_iter': [100000]}"
            ]
          },
          "metadata": {},
          "execution_count": 139
        }
      ]
    },
    {
      "cell_type": "code",
      "source": [
        "grid_m.best_params_"
      ],
      "metadata": {
        "id": "2hq6-bT_Mibn"
      },
      "execution_count": null,
      "outputs": []
    },
    {
      "cell_type": "code",
      "source": [
        "grid_m.score"
      ],
      "metadata": {
        "id": "9j8TdZpnIDcm"
      },
      "execution_count": null,
      "outputs": []
    },
    {
      "cell_type": "code",
      "source": [
        "grid_m.best_score_"
      ],
      "metadata": {
        "id": "_WDPfDwJHxze"
      },
      "execution_count": null,
      "outputs": []
    },
    {
      "cell_type": "code",
      "source": [
        "grid_m.cv_results_"
      ],
      "metadata": {
        "id": "5WXiUNcZHpKn"
      },
      "execution_count": null,
      "outputs": []
    }
  ]
}