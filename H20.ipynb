{
  "cells": [
    {
      "cell_type": "markdown",
      "metadata": {
        "id": "view-in-github",
        "colab_type": "text"
      },
      "source": [
        "<a href=\"https://colab.research.google.com/github/min02yam/project_2022_03/blob/main/H20.ipynb\" target=\"_parent\"><img src=\"https://colab.research.google.com/assets/colab-badge.svg\" alt=\"Open In Colab\"/></a>"
      ]
    },
    {
      "cell_type": "code",
      "source": [
        "install.packages(\"h2o\")\n",
        "library(h2o)"
      ],
      "metadata": {
        "colab": {
          "base_uri": "https://localhost:8080/"
        },
        "id": "RvO_dKn2a5QB",
        "outputId": "585ed05f-b077-4668-837a-4baf9c95510b"
      },
      "execution_count": 9,
      "outputs": [
        {
          "output_type": "stream",
          "name": "stderr",
          "text": [
            "Installing package into ‘/usr/local/lib/R/site-library’\n",
            "(as ‘lib’ is unspecified)\n",
            "\n",
            "also installing the dependencies ‘bitops’, ‘RCurl’\n",
            "\n",
            "\n",
            "\n",
            "----------------------------------------------------------------------\n",
            "\n",
            "Your next step is to start H2O:\n",
            "    > h2o.init()\n",
            "\n",
            "For H2O package documentation, ask for help:\n",
            "    > ??h2o\n",
            "\n",
            "After starting H2O, you can use the Web UI at http://localhost:54321\n",
            "For more information visit https://docs.h2o.ai\n",
            "\n",
            "----------------------------------------------------------------------\n",
            "\n",
            "\n",
            "\n",
            "Attaching package: ‘h2o’\n",
            "\n",
            "\n",
            "The following objects are masked from ‘package:data.table’:\n",
            "\n",
            "    hour, month, week, year\n",
            "\n",
            "\n",
            "The following objects are masked from ‘package:stats’:\n",
            "\n",
            "    cor, sd, var\n",
            "\n",
            "\n",
            "The following objects are masked from ‘package:base’:\n",
            "\n",
            "    &&, %*%, %in%, ||, apply, as.factor, as.numeric, colnames,\n",
            "    colnames<-, ifelse, is.character, is.factor, is.numeric, log,\n",
            "    log10, log1p, log2, round, signif, trunc\n",
            "\n",
            "\n"
          ]
        }
      ]
    },
    {
      "cell_type": "code",
      "source": [
        "require(data.table)"
      ],
      "metadata": {
        "colab": {
          "base_uri": "https://localhost:8080/"
        },
        "id": "hnFdYZQ_aFu-",
        "outputId": "dac5750a-4fe2-49a9-a338-5042fbd40b40"
      },
      "execution_count": 1,
      "outputs": [
        {
          "output_type": "stream",
          "name": "stderr",
          "text": [
            "Loading required package: googledrive\n",
            "\n"
          ]
        }
      ]
    },
    {
      "cell_type": "code",
      "source": [
        "system(\"gdown --id 1PwFE91U4jhsO5gM4bWdnyvAClto3txOb\")  # train\n",
        "system(\"gdown --id 18elLaOJbV9rM-I0C-G1yswWKrc7ZV6yr\")  # test"
      ],
      "metadata": {
        "id": "H6LBRrvcazQV"
      },
      "execution_count": 7,
      "outputs": []
    },
    {
      "cell_type": "code",
      "source": [
        "h2o.init(max_mem_size = \"4g\", nthreads = 5)"
      ],
      "metadata": {
        "colab": {
          "base_uri": "https://localhost:8080/"
        },
        "id": "mkzgXAxtb3iu",
        "outputId": "2d656b8f-b82d-4922-9681-822587d09de8"
      },
      "execution_count": 10,
      "outputs": [
        {
          "output_type": "stream",
          "name": "stdout",
          "text": [
            "\n",
            "H2O is not running yet, starting it now...\n",
            "\n",
            "Note:  In case of errors look at the following log files:\n",
            "    /tmp/RtmpHBnS5M/file4c61d09c10/h2o_UnknownUser_started_from_r.out\n",
            "    /tmp/RtmpHBnS5M/file4c5c2d3881/h2o_UnknownUser_started_from_r.err\n",
            "\n",
            "\n",
            "Starting H2O JVM and connecting: ... Connection successful!\n",
            "\n",
            "R is connected to the H2O cluster: \n",
            "    H2O cluster uptime:         2 seconds 332 milliseconds \n",
            "    H2O cluster timezone:       Etc/UTC \n",
            "    H2O data parsing timezone:  UTC \n",
            "    H2O cluster version:        3.38.0.1 \n",
            "    H2O cluster version age:    2 months and 17 days  \n",
            "    H2O cluster name:           H2O_started_from_R_root_tpg424 \n",
            "    H2O cluster total nodes:    1 \n",
            "    H2O cluster total memory:   4.00 GB \n",
            "    H2O cluster total cores:    2 \n",
            "    H2O cluster allowed cores:  2 \n",
            "    H2O cluster healthy:        TRUE \n",
            "    H2O Connection ip:          localhost \n",
            "    H2O Connection port:        54321 \n",
            "    H2O Connection proxy:       NA \n",
            "    H2O Internal Security:      FALSE \n",
            "    R Version:                  R version 4.2.2 Patched (2022-11-10 r83330) \n",
            "\n"
          ]
        }
      ]
    },
    {
      "cell_type": "code",
      "source": [
        "DT= fread(\"train.csv\")"
      ],
      "metadata": {
        "id": "P3ZaMib6c0kS"
      },
      "execution_count": 12,
      "outputs": []
    },
    {
      "cell_type": "code",
      "source": [
        "h2o_dt = as.h2o(DT)\n",
        "\n",
        "split_dt = h2o.splitFrame(h2o_dt, c(0.7), seed=49)\n",
        "train =  h2o.assign(split_dt[[1]], \"train\")\n",
        "test = h2o.assign(split_dt[[2]], \"test\")"
      ],
      "metadata": {
        "colab": {
          "base_uri": "https://localhost:8080/"
        },
        "id": "YpgI9nerb74q",
        "outputId": "e964bbd5-6957-4148-d5c5-b17f79bc5a76"
      },
      "execution_count": 13,
      "outputs": [
        {
          "output_type": "stream",
          "name": "stdout",
          "text": [
            "  |======================================================================| 100%\n"
          ]
        }
      ]
    },
    {
      "cell_type": "code",
      "source": [
        "y = \"predicted_weight_g\"\n",
        "x = setdiff(names(train), y)"
      ],
      "metadata": {
        "id": "JKWzf1PHc-qM"
      },
      "execution_count": 14,
      "outputs": []
    },
    {
      "cell_type": "code",
      "source": [
        "aml = h2o.automl(x = x, y = y,\n",
        "                training_frame = train,\n",
        "                max_models = 20,\n",
        "                seed = 49)"
      ],
      "metadata": {
        "colab": {
          "base_uri": "https://localhost:8080/"
        },
        "id": "ir-zmYOedI8l",
        "outputId": "c5bd7d03-9ebb-471b-d1bc-d0560418011d"
      },
      "execution_count": 15,
      "outputs": [
        {
          "output_type": "stream",
          "name": "stdout",
          "text": [
            "  |======================================================================| 100%\n"
          ]
        }
      ]
    },
    {
      "cell_type": "code",
      "source": [
        "lb = aml@leaderboard\n",
        "print(lb, n = nrow(lb))"
      ],
      "metadata": {
        "colab": {
          "base_uri": "https://localhost:8080/"
        },
        "id": "8cOz1Z_qdJoU",
        "outputId": "b5f9f7db-2350-498b-c0f3-5a3bf29e329c"
      },
      "execution_count": 16,
      "outputs": [
        {
          "output_type": "stream",
          "name": "stdout",
          "text": [
            "                                                  model_id      rmse       mse\n",
            "1  StackedEnsemble_BestOfFamily_1_AutoML_1_20221207_115955  7.604948  57.83524\n",
            "2     StackedEnsemble_AllModels_1_AutoML_1_20221207_115955  7.658306  58.64966\n",
            "3                           GBM_4_AutoML_1_20221207_115955  7.876706  62.04250\n",
            "4                           GBM_3_AutoML_1_20221207_115955  8.502536  72.29312\n",
            "5                           GBM_5_AutoML_1_20221207_115955  8.795446  77.35987\n",
            "6                           GBM_2_AutoML_1_20221207_115955  8.809905  77.61442\n",
            "7          XGBoost_grid_1_AutoML_1_20221207_115955_model_2  8.914641  79.47083\n",
            "8                       XGBoost_1_AutoML_1_20221207_115955  9.800329  96.04644\n",
            "9                           XRT_1_AutoML_1_20221207_115955 10.181802 103.66909\n",
            "10                      XGBoost_3_AutoML_1_20221207_115955 10.204073 104.12311\n",
            "11         XGBoost_grid_1_AutoML_1_20221207_115955_model_1 10.497450 110.19646\n",
            "12                      XGBoost_2_AutoML_1_20221207_115955 10.547719 111.25437\n",
            "13         XGBoost_grid_1_AutoML_1_20221207_115955_model_3 10.714723 114.80529\n",
            "14                          DRF_1_AutoML_1_20221207_115955 10.860920 117.95959\n",
            "15             GBM_grid_1_AutoML_1_20221207_115955_model_1 10.880143 118.37752\n",
            "16             GBM_grid_1_AutoML_1_20221207_115955_model_2 10.995008 120.89020\n",
            "17    DeepLearning_grid_1_AutoML_1_20221207_115955_model_1 12.531559 157.03997\n",
            "18                          GBM_1_AutoML_1_20221207_115955 17.488776 305.85728\n",
            "19                 DeepLearning_1_AutoML_1_20221207_115955 18.390091 338.19543\n",
            "20    DeepLearning_grid_3_AutoML_1_20221207_115955_model_1 21.559506 464.81232\n",
            "21                          GLM_1_AutoML_1_20221207_115955 23.208366 538.62823\n",
            "22    DeepLearning_grid_2_AutoML_1_20221207_115955_model_1 27.287912 744.63015\n",
            "         mae     rmsle mean_residual_deviance\n",
            "1   4.666174       NaN               57.83524\n",
            "2   4.738575       NaN               58.64966\n",
            "3   4.790070       NaN               62.04250\n",
            "4   4.875387       NaN               72.29312\n",
            "5   5.192108 0.3247545               77.35987\n",
            "6   5.273136       NaN               77.61442\n",
            "7   5.332356       NaN               79.47083\n",
            "8   6.272917       NaN               96.04644\n",
            "9   6.104020 0.3676048              103.66909\n",
            "10  6.251290       NaN              104.12311\n",
            "11  6.253415       NaN              110.19646\n",
            "12  6.279255       NaN              111.25437\n",
            "13  6.179542       NaN              114.80529\n",
            "14  6.489211 0.3784180              117.95959\n",
            "15  6.490673       NaN              118.37752\n",
            "16  7.132098       NaN              120.89020\n",
            "17  8.630938       NaN              157.03997\n",
            "18 12.852634       NaN              305.85728\n",
            "19 13.735679       NaN              338.19543\n",
            "20 13.458803 0.7219249              464.81232\n",
            "21 18.207756       NaN              538.62823\n",
            "22 21.342207 1.2959407              744.63015\n",
            "\n",
            "[22 rows x 6 columns] \n"
          ]
        }
      ]
    },
    {
      "cell_type": "code",
      "source": [
        "m = h2o.get_best_model(aml,criterion = \"rmse\")\n",
        "h2o.performance(m, test) # AUC:  0.9983013"
      ],
      "metadata": {
        "colab": {
          "base_uri": "https://localhost:8080/",
          "height": 144
        },
        "id": "XpPFlvBxdTQc",
        "outputId": "265fc1df-24a7-4f4e-a058-09f3946b4620"
      },
      "execution_count": 17,
      "outputs": [
        {
          "output_type": "display_data",
          "data": {
            "text/plain": [
              "H2ORegressionMetrics: stackedensemble\n",
              "\n",
              "MSE:  63.32925\n",
              "RMSE:  7.957967\n",
              "MAE:  5.103616\n",
              "RMSLE:  NaN\n",
              "Mean Residual Deviance :  63.32925\n"
            ]
          },
          "metadata": {}
        }
      ]
    },
    {
      "cell_type": "code",
      "source": [
        "test = fread(\"test.csv\")\n",
        "h2o_test = as.h2o(test)"
      ],
      "metadata": {
        "colab": {
          "base_uri": "https://localhost:8080/"
        },
        "id": "hf2SQAfNfkat",
        "outputId": "7785e2d6-a226-4bed-cd6f-fee5a015e06e"
      },
      "execution_count": 18,
      "outputs": [
        {
          "output_type": "stream",
          "name": "stdout",
          "text": [
            "  |======================================================================| 100%\n"
          ]
        }
      ]
    },
    {
      "cell_type": "code",
      "source": [
        "fit = h2o.predict(object=m, newdata = h2o_test) %>% \n",
        "  as.data.table()"
      ],
      "metadata": {
        "colab": {
          "base_uri": "https://localhost:8080/"
        },
        "id": "CRkJJocVeYNw",
        "outputId": "6fde0d42-49c2-496d-bb3a-382e6dbc1bc5"
      },
      "execution_count": 25,
      "outputs": [
        {
          "output_type": "stream",
          "name": "stdout",
          "text": [
            "  |======================================================================| 100%\n"
          ]
        }
      ]
    },
    {
      "cell_type": "code",
      "source": [
        "fit_dt = as.data.table(fit)"
      ],
      "metadata": {
        "id": "BQOSh47mhdKg"
      },
      "execution_count": 22,
      "outputs": []
    },
    {
      "cell_type": "code",
      "source": [
        "fit %>% head"
      ],
      "metadata": {
        "colab": {
          "base_uri": "https://localhost:8080/",
          "height": 321
        },
        "id": "XMUY18bbhjVb",
        "outputId": "ad1d0052-8d7a-4957-947b-6b1057cb6bf6"
      },
      "execution_count": 26,
      "outputs": [
        {
          "output_type": "display_data",
          "data": {
            "text/html": [
              "<table class=\"dataframe\">\n",
              "<caption>A data.table: 6 × 1</caption>\n",
              "<thead>\n",
              "\t<tr><th scope=col>predict</th></tr>\n",
              "\t<tr><th scope=col>&lt;dbl&gt;</th></tr>\n",
              "</thead>\n",
              "<tbody>\n",
              "\t<tr><td>0.2674741</td></tr>\n",
              "\t<tr><td>2.7053392</td></tr>\n",
              "\t<tr><td>0.6986194</td></tr>\n",
              "\t<tr><td>2.0813989</td></tr>\n",
              "\t<tr><td>2.6064324</td></tr>\n",
              "\t<tr><td>4.2707098</td></tr>\n",
              "</tbody>\n",
              "</table>\n"
            ],
            "text/markdown": "\nA data.table: 6 × 1\n\n| predict &lt;dbl&gt; |\n|---|\n| 0.2674741 |\n| 2.7053392 |\n| 0.6986194 |\n| 2.0813989 |\n| 2.6064324 |\n| 4.2707098 |\n\n",
            "text/latex": "A data.table: 6 × 1\n\\begin{tabular}{l}\n predict\\\\\n <dbl>\\\\\n\\hline\n\t 0.2674741\\\\\n\t 2.7053392\\\\\n\t 0.6986194\\\\\n\t 2.0813989\\\\\n\t 2.6064324\\\\\n\t 4.2707098\\\\\n\\end{tabular}\n",
            "text/plain": [
              "  predict  \n",
              "1 0.2674741\n",
              "2 2.7053392\n",
              "3 0.6986194\n",
              "4 2.0813989\n",
              "5 2.6064324\n",
              "6 4.2707098"
            ]
          },
          "metadata": {}
        }
      ]
    }
  ],
  "metadata": {
    "accelerator": "GPU",
    "colab": {
      "machine_shape": "hm",
      "provenance": [],
      "authorship_tag": "ABX9TyNktKNP/gZRGpzHHnpNJazm",
      "include_colab_link": true
    },
    "gpuClass": "standard",
    "kernelspec": {
      "display_name": "R",
      "name": "ir"
    },
    "language_info": {
      "name": "R"
    }
  },
  "nbformat": 4,
  "nbformat_minor": 0
}