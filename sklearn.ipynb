{
  "nbformat": 4,
  "nbformat_minor": 0,
  "metadata": {
    "colab": {
      "provenance": [],
      "authorship_tag": "ABX9TyPUtOe8pZgR4qc7gjNT5wIp",
      "include_colab_link": true
    },
    "kernelspec": {
      "name": "python3",
      "display_name": "Python 3"
    },
    "language_info": {
      "name": "python"
    }
  },
  "cells": [
    {
      "cell_type": "markdown",
      "metadata": {
        "id": "view-in-github",
        "colab_type": "text"
      },
      "source": [
        "<a href=\"https://colab.research.google.com/github/min02yam/project_2022_03/blob/main/sklearn.ipynb\" target=\"_parent\"><img src=\"https://colab.research.google.com/assets/colab-badge.svg\" alt=\"Open In Colab\"/></a>"
      ]
    },
    {
      "cell_type": "code",
      "execution_count": 1,
      "metadata": {
        "colab": {
          "base_uri": "https://localhost:8080/"
        },
        "id": "r7dgvA_dWg71",
        "outputId": "2f57f38a-68c6-41ec-a1cb-88f0c78ba039"
      },
      "outputs": [
        {
          "output_type": "stream",
          "name": "stdout",
          "text": [
            "Drive already mounted at /content/drive; to attempt to forcibly remount, call drive.mount(\"/content/drive\", force_remount=True).\n"
          ]
        }
      ],
      "source": [
        "import warnings\n",
        "warnings.filterwarnings(action='ignore') \n",
        "from google.colab import drive\n",
        "drive.mount('/content/drive')"
      ]
    },
    {
      "cell_type": "code",
      "source": [
        "import pandas as pd\n",
        "train = pd.read_csv(\"/content/drive/MyDrive/2022_03/data/train10_0.csv\")\n",
        "test = pd.read_csv(\"/content/drive/MyDrive/2022_03/data/test10_0.csv\")\n",
        "submission = pd.read_csv(\"/content/drive/MyDrive/2022_03/data/sample_submission.csv\")\n",
        "\n",
        "feature = train.drop(['predicted_weight_g'],axis=1).columns\n",
        "target = 'predicted_weight_g'"
      ],
      "metadata": {
        "id": "con_Uqd1Wua4"
      },
      "execution_count": 2,
      "outputs": []
    },
    {
      "cell_type": "code",
      "source": [
        "import random\n",
        "import os\n",
        "import numpy as np\n",
        "def set_seed(seed):\n",
        "    random.seed(seed)\n",
        "    os.environ['PYTHONHASHSEED'] = str(seed)\n",
        "    np.random.seed(seed)\n",
        "set_seed(49)"
      ],
      "metadata": {
        "id": "bYyp4peX_yn0"
      },
      "execution_count": 3,
      "outputs": []
    },
    {
      "cell_type": "code",
      "source": [
        "?SVR"
      ],
      "metadata": {
        "id": "iibPAEOAXWjo"
      },
      "execution_count": 36,
      "outputs": []
    },
    {
      "cell_type": "code",
      "source": [
        "# test\n",
        "from sklearn.preprocessing import MinMaxScaler, StandardScaler  # 전처리\n",
        "from sklearn.pipeline import Pipeline # 파이프\n",
        "from sklearn.model_selection import GridSearchCV # cross-validation\n",
        "\n",
        "from sklearn.linear_model import LinearRegression, Ridge, RidgeCV, Lasso, LassoCV, ElasticNet, RANSACRegressor\n",
        "from sklearn.neighbors import KNeighborsRegressor\n",
        "from sklearn.svm import SVR\n",
        "from sklearn.tree import DecisionTreeRegressor\n",
        "from sklearn.ensemble import GradientBoostingRegressor, RandomForestRegressor, VotingRegressor, StackingRegressor\n",
        "from sklearn.neural_network import MLPRegressor\n",
        "\n",
        "from xgboost import XGBRegressor\n",
        "from lightgbm import LGBMRegressor\n",
        "#from catboost import CatBoostRegressor\n",
        "\n",
        "pip = Pipeline(((\"preprocess\", MinMaxScaler()), (\"regressor\", LinearRegression()))) # 디폴트 파이프라인 생성\n",
        "grid_parm = [\n",
        "    \n",
        "    {'preprocess': [StandardScaler(), MinMaxScaler()],\n",
        "     'regressor': [LinearRegression()]},\n",
        "     \n",
        "     {'preprocess': [StandardScaler(), MinMaxScaler()],\n",
        "     'regressor': [Ridge()],\n",
        "      'regressor__alpha': [0.1, 0.3, 1, 3, 5, 10, 15, 30, 50, 75]},\n",
        "     \n",
        "     {'preprocess': [StandardScaler(), MinMaxScaler()],\n",
        "     'regressor': [Lasso()]},\n",
        "\n",
        "    #{'preprocess': [StandardScaler(), MinMaxScaler()],\n",
        "    # 'regressor': [ElasticNet()],\n",
        "    # 'regressor__alpha' : np.arange(1e-4,1e-3,1e-4).tolist(),\n",
        "    # 'regressor__l1_ratio': np.arange(0.1,1.0,0.1).tolist(),\n",
        "    # 'regressor__max_iter':[100000]\n",
        "\n",
        "    {'preprocess': [StandardScaler(), MinMaxScaler()],\n",
        "     'regressor': [KNeighborsRegressor()],\n",
        "     'regressor__n_neighbors': list(range(1,25,2))},\n",
        "     \n",
        "     {'preprocess': [StandardScaler(), MinMaxScaler()],\n",
        "     'regressor': [SVR()],\n",
        "     'regressor__kernel': ['linear', 'poly', 'rbf', 'sigmoid']},\n",
        "     \n",
        "     {'preprocess': [None],\n",
        "      'regressor': [DecisionTreeRegressor()],\n",
        "      'regressor__max_depth': list(range(2,15)) }\n",
        "    \n",
        "\n",
        "\n",
        "\n",
        "     \n",
        "]\n",
        "\n",
        "grid_m = GridSearchCV(pip, \n",
        "                      grid_parm, \n",
        "                      cv = 5,\n",
        "                      return_train_score=True, \n",
        "                      verbose=3)\n",
        "\n",
        "grid_m.fit(train[feature], train[target])\n"
      ],
      "metadata": {
        "colab": {
          "base_uri": "https://localhost:8080/"
        },
        "id": "3oItiE3YEoiJ",
        "outputId": "2aa665f3-e131-44b1-e828-056c8d111488"
      },
      "execution_count": 42,
      "outputs": [
        {
          "output_type": "stream",
          "name": "stdout",
          "text": [
            "Fitting 5 folds for each of 57 candidates, totalling 285 fits\n",
            "[CV 1/5] END preprocess=StandardScaler(), regressor=LinearRegression();, score=(train=0.731, test=0.199) total time=   0.0s\n",
            "[CV 2/5] END preprocess=StandardScaler(), regressor=LinearRegression();, score=(train=0.690, test=0.683) total time=   0.0s\n",
            "[CV 3/5] END preprocess=StandardScaler(), regressor=LinearRegression();, score=(train=0.714, test=-2.398) total time=   0.0s\n",
            "[CV 4/5] END preprocess=StandardScaler(), regressor=LinearRegression();, score=(train=0.737, test=-0.102) total time=   0.0s\n",
            "[CV 5/5] END preprocess=StandardScaler(), regressor=LinearRegression();, score=(train=0.720, test=0.299) total time=   0.0s\n",
            "[CV 1/5] END preprocess=MinMaxScaler(), regressor=LinearRegression();, score=(train=0.730, test=0.191) total time=   0.0s\n",
            "[CV 2/5] END preprocess=MinMaxScaler(), regressor=LinearRegression();, score=(train=0.690, test=0.678) total time=   0.0s\n",
            "[CV 3/5] END preprocess=MinMaxScaler(), regressor=LinearRegression();, score=(train=0.714, test=-2.397) total time=   0.0s\n",
            "[CV 4/5] END preprocess=MinMaxScaler(), regressor=LinearRegression();, score=(train=0.737, test=-0.128) total time=   0.0s\n",
            "[CV 5/5] END preprocess=MinMaxScaler(), regressor=LinearRegression();, score=(train=0.719, test=0.302) total time=   0.0s\n",
            "[CV 1/5] END preprocess=StandardScaler(), regressor=Ridge(), regressor__alpha=0.1;, score=(train=0.729, test=0.195) total time=   0.0s\n",
            "[CV 2/5] END preprocess=StandardScaler(), regressor=Ridge(), regressor__alpha=0.1;, score=(train=0.688, test=0.686) total time=   0.0s\n",
            "[CV 3/5] END preprocess=StandardScaler(), regressor=Ridge(), regressor__alpha=0.1;, score=(train=0.714, test=-2.213) total time=   0.0s\n",
            "[CV 4/5] END preprocess=StandardScaler(), regressor=Ridge(), regressor__alpha=0.1;, score=(train=0.735, test=-0.121) total time=   0.0s\n",
            "[CV 5/5] END preprocess=StandardScaler(), regressor=Ridge(), regressor__alpha=0.1;, score=(train=0.718, test=0.296) total time=   0.0s\n",
            "[CV 1/5] END preprocess=StandardScaler(), regressor=Ridge(), regressor__alpha=0.3;, score=(train=0.729, test=0.197) total time=   0.0s\n",
            "[CV 2/5] END preprocess=StandardScaler(), regressor=Ridge(), regressor__alpha=0.3;, score=(train=0.688, test=0.687) total time=   0.0s\n",
            "[CV 3/5] END preprocess=StandardScaler(), regressor=Ridge(), regressor__alpha=0.3;, score=(train=0.713, test=-2.036) total time=   0.0s\n",
            "[CV 4/5] END preprocess=StandardScaler(), regressor=Ridge(), regressor__alpha=0.3;, score=(train=0.735, test=-0.126) total time=   0.0s\n",
            "[CV 5/5] END preprocess=StandardScaler(), regressor=Ridge(), regressor__alpha=0.3;, score=(train=0.718, test=0.298) total time=   0.0s\n",
            "[CV 1/5] END preprocess=StandardScaler(), regressor=Ridge(), regressor__alpha=1;, score=(train=0.728, test=0.203) total time=   0.0s\n",
            "[CV 2/5] END preprocess=StandardScaler(), regressor=Ridge(), regressor__alpha=1;, score=(train=0.687, test=0.688) total time=   0.0s\n",
            "[CV 3/5] END preprocess=StandardScaler(), regressor=Ridge(), regressor__alpha=1;, score=(train=0.711, test=-1.669) total time=   0.0s\n",
            "[CV 4/5] END preprocess=StandardScaler(), regressor=Ridge(), regressor__alpha=1;, score=(train=0.735, test=-0.138) total time=   0.0s\n",
            "[CV 5/5] END preprocess=StandardScaler(), regressor=Ridge(), regressor__alpha=1;, score=(train=0.717, test=0.301) total time=   0.0s\n",
            "[CV 1/5] END preprocess=StandardScaler(), regressor=Ridge(), regressor__alpha=3;, score=(train=0.727, test=0.220) total time=   0.0s\n",
            "[CV 2/5] END preprocess=StandardScaler(), regressor=Ridge(), regressor__alpha=3;, score=(train=0.686, test=0.688) total time=   0.0s\n",
            "[CV 3/5] END preprocess=StandardScaler(), regressor=Ridge(), regressor__alpha=3;, score=(train=0.705, test=-1.266) total time=   0.0s\n",
            "[CV 4/5] END preprocess=StandardScaler(), regressor=Ridge(), regressor__alpha=3;, score=(train=0.733, test=-0.143) total time=   0.0s\n",
            "[CV 5/5] END preprocess=StandardScaler(), regressor=Ridge(), regressor__alpha=3;, score=(train=0.715, test=0.298) total time=   0.0s\n",
            "[CV 1/5] END preprocess=StandardScaler(), regressor=Ridge(), regressor__alpha=5;, score=(train=0.725, test=0.235) total time=   0.0s\n",
            "[CV 2/5] END preprocess=StandardScaler(), regressor=Ridge(), regressor__alpha=5;, score=(train=0.684, test=0.687) total time=   0.0s\n",
            "[CV 3/5] END preprocess=StandardScaler(), regressor=Ridge(), regressor__alpha=5;, score=(train=0.701, test=-1.083) total time=   0.0s\n",
            "[CV 4/5] END preprocess=StandardScaler(), regressor=Ridge(), regressor__alpha=5;, score=(train=0.732, test=-0.132) total time=   0.0s\n",
            "[CV 5/5] END preprocess=StandardScaler(), regressor=Ridge(), regressor__alpha=5;, score=(train=0.713, test=0.294) total time=   0.0s\n",
            "[CV 1/5] END preprocess=StandardScaler(), regressor=Ridge(), regressor__alpha=10;, score=(train=0.722, test=0.262) total time=   0.0s\n",
            "[CV 2/5] END preprocess=StandardScaler(), regressor=Ridge(), regressor__alpha=10;, score=(train=0.682, test=0.686) total time=   0.0s\n",
            "[CV 3/5] END preprocess=StandardScaler(), regressor=Ridge(), regressor__alpha=10;, score=(train=0.696, test=-0.826) total time=   0.0s\n",
            "[CV 4/5] END preprocess=StandardScaler(), regressor=Ridge(), regressor__alpha=10;, score=(train=0.730, test=-0.093) total time=   0.0s\n",
            "[CV 5/5] END preprocess=StandardScaler(), regressor=Ridge(), regressor__alpha=10;, score=(train=0.710, test=0.287) total time=   0.0s\n",
            "[CV 1/5] END preprocess=StandardScaler(), regressor=Ridge(), regressor__alpha=15;, score=(train=0.719, test=0.280) total time=   0.0s\n",
            "[CV 2/5] END preprocess=StandardScaler(), regressor=Ridge(), regressor__alpha=15;, score=(train=0.680, test=0.685) total time=   0.0s\n",
            "[CV 3/5] END preprocess=StandardScaler(), regressor=Ridge(), regressor__alpha=15;, score=(train=0.693, test=-0.662) total time=   0.0s\n",
            "[CV 4/5] END preprocess=StandardScaler(), regressor=Ridge(), regressor__alpha=15;, score=(train=0.728, test=-0.055) total time=   0.0s\n",
            "[CV 5/5] END preprocess=StandardScaler(), regressor=Ridge(), regressor__alpha=15;, score=(train=0.709, test=0.284) total time=   0.0s\n",
            "[CV 1/5] END preprocess=StandardScaler(), regressor=Ridge(), regressor__alpha=30;, score=(train=0.713, test=0.312) total time=   0.0s\n",
            "[CV 2/5] END preprocess=StandardScaler(), regressor=Ridge(), regressor__alpha=30;, score=(train=0.676, test=0.682) total time=   0.0s\n",
            "[CV 3/5] END preprocess=StandardScaler(), regressor=Ridge(), regressor__alpha=30;, score=(train=0.688, test=-0.354) total time=   0.0s\n",
            "[CV 4/5] END preprocess=StandardScaler(), regressor=Ridge(), regressor__alpha=30;, score=(train=0.723, test=0.027) total time=   0.0s\n",
            "[CV 5/5] END preprocess=StandardScaler(), regressor=Ridge(), regressor__alpha=30;, score=(train=0.705, test=0.288) total time=   0.0s\n",
            "[CV 1/5] END preprocess=StandardScaler(), regressor=Ridge(), regressor__alpha=50;, score=(train=0.707, test=0.332) total time=   0.0s\n",
            "[CV 2/5] END preprocess=StandardScaler(), regressor=Ridge(), regressor__alpha=50;, score=(train=0.673, test=0.680) total time=   0.0s\n",
            "[CV 3/5] END preprocess=StandardScaler(), regressor=Ridge(), regressor__alpha=50;, score=(train=0.681, test=-0.127) total time=   0.0s\n",
            "[CV 4/5] END preprocess=StandardScaler(), regressor=Ridge(), regressor__alpha=50;, score=(train=0.718, test=0.094) total time=   0.0s\n",
            "[CV 5/5] END preprocess=StandardScaler(), regressor=Ridge(), regressor__alpha=50;, score=(train=0.702, test=0.301) total time=   0.0s\n",
            "[CV 1/5] END preprocess=StandardScaler(), regressor=Ridge(), regressor__alpha=75;, score=(train=0.702, test=0.344) total time=   0.0s\n",
            "[CV 2/5] END preprocess=StandardScaler(), regressor=Ridge(), regressor__alpha=75;, score=(train=0.669, test=0.678) total time=   0.0s\n",
            "[CV 3/5] END preprocess=StandardScaler(), regressor=Ridge(), regressor__alpha=75;, score=(train=0.674, test=0.033) total time=   0.0s\n",
            "[CV 4/5] END preprocess=StandardScaler(), regressor=Ridge(), regressor__alpha=75;, score=(train=0.713, test=0.145) total time=   0.0s\n",
            "[CV 5/5] END preprocess=StandardScaler(), regressor=Ridge(), regressor__alpha=75;, score=(train=0.698, test=0.320) total time=   0.0s\n",
            "[CV 1/5] END preprocess=MinMaxScaler(), regressor=Ridge(), regressor__alpha=0.1;, score=(train=0.728, test=0.218) total time=   0.0s\n",
            "[CV 2/5] END preprocess=MinMaxScaler(), regressor=Ridge(), regressor__alpha=0.1;, score=(train=0.687, test=0.685) total time=   0.0s\n",
            "[CV 3/5] END preprocess=MinMaxScaler(), regressor=Ridge(), regressor__alpha=0.1;, score=(train=0.708, test=-1.499) total time=   0.0s\n",
            "[CV 4/5] END preprocess=MinMaxScaler(), regressor=Ridge(), regressor__alpha=0.1;, score=(train=0.734, test=-0.131) total time=   0.0s\n",
            "[CV 5/5] END preprocess=MinMaxScaler(), regressor=Ridge(), regressor__alpha=0.1;, score=(train=0.716, test=0.301) total time=   0.0s\n",
            "[CV 1/5] END preprocess=MinMaxScaler(), regressor=Ridge(), regressor__alpha=0.3;, score=(train=0.724, test=0.252) total time=   0.0s\n",
            "[CV 2/5] END preprocess=MinMaxScaler(), regressor=Ridge(), regressor__alpha=0.3;, score=(train=0.684, test=0.685) total time=   0.0s\n",
            "[CV 3/5] END preprocess=MinMaxScaler(), regressor=Ridge(), regressor__alpha=0.3;, score=(train=0.701, test=-1.095) total time=   0.0s\n",
            "[CV 4/5] END preprocess=MinMaxScaler(), regressor=Ridge(), regressor__alpha=0.3;, score=(train=0.731, test=-0.099) total time=   0.0s\n",
            "[CV 5/5] END preprocess=MinMaxScaler(), regressor=Ridge(), regressor__alpha=0.3;, score=(train=0.712, test=0.293) total time=   0.0s\n",
            "[CV 1/5] END preprocess=MinMaxScaler(), regressor=Ridge(), regressor__alpha=1;, score=(train=0.716, test=0.301) total time=   0.0s\n",
            "[CV 2/5] END preprocess=MinMaxScaler(), regressor=Ridge(), regressor__alpha=1;, score=(train=0.679, test=0.684) total time=   0.0s\n",
            "[CV 3/5] END preprocess=MinMaxScaler(), regressor=Ridge(), regressor__alpha=1;, score=(train=0.693, test=-0.595) total time=   0.0s\n",
            "[CV 4/5] END preprocess=MinMaxScaler(), regressor=Ridge(), regressor__alpha=1;, score=(train=0.725, test=0.004) total time=   0.0s\n",
            "[CV 5/5] END preprocess=MinMaxScaler(), regressor=Ridge(), regressor__alpha=1;, score=(train=0.707, test=0.291) total time=   0.0s\n",
            "[CV 1/5] END preprocess=MinMaxScaler(), regressor=Ridge(), regressor__alpha=3;, score=(train=0.706, test=0.338) total time=   0.0s\n",
            "[CV 2/5] END preprocess=MinMaxScaler(), regressor=Ridge(), regressor__alpha=3;, score=(train=0.673, test=0.686) total time=   0.0s\n",
            "[CV 3/5] END preprocess=MinMaxScaler(), regressor=Ridge(), regressor__alpha=3;, score=(train=0.682, test=-0.080) total time=   0.0s\n",
            "[CV 4/5] END preprocess=MinMaxScaler(), regressor=Ridge(), regressor__alpha=3;, score=(train=0.716, test=0.116) total time=   0.0s\n",
            "[CV 5/5] END preprocess=MinMaxScaler(), regressor=Ridge(), regressor__alpha=3;, score=(train=0.701, test=0.327) total time=   0.0s\n",
            "[CV 1/5] END preprocess=MinMaxScaler(), regressor=Ridge(), regressor__alpha=5;, score=(train=0.701, test=0.349) total time=   0.0s\n",
            "[CV 2/5] END preprocess=MinMaxScaler(), regressor=Ridge(), regressor__alpha=5;, score=(train=0.669, test=0.687) total time=   0.0s\n",
            "[CV 3/5] END preprocess=MinMaxScaler(), regressor=Ridge(), regressor__alpha=5;, score=(train=0.674, test=0.113) total time=   0.0s\n",
            "[CV 4/5] END preprocess=MinMaxScaler(), regressor=Ridge(), regressor__alpha=5;, score=(train=0.711, test=0.164) total time=   0.0s\n",
            "[CV 5/5] END preprocess=MinMaxScaler(), regressor=Ridge(), regressor__alpha=5;, score=(train=0.697, test=0.364) total time=   0.0s\n",
            "[CV 1/5] END preprocess=MinMaxScaler(), regressor=Ridge(), regressor__alpha=10;, score=(train=0.690, test=0.354) total time=   0.0s\n",
            "[CV 2/5] END preprocess=MinMaxScaler(), regressor=Ridge(), regressor__alpha=10;, score=(train=0.659, test=0.688) total time=   0.0s\n",
            "[CV 3/5] END preprocess=MinMaxScaler(), regressor=Ridge(), regressor__alpha=10;, score=(train=0.656, test=0.272) total time=   0.0s\n",
            "[CV 4/5] END preprocess=MinMaxScaler(), regressor=Ridge(), regressor__alpha=10;, score=(train=0.700, test=0.229) total time=   0.0s\n",
            "[CV 5/5] END preprocess=MinMaxScaler(), regressor=Ridge(), regressor__alpha=10;, score=(train=0.687, test=0.431) total time=   0.0s\n",
            "[CV 1/5] END preprocess=MinMaxScaler(), regressor=Ridge(), regressor__alpha=15;, score=(train=0.680, test=0.350) total time=   0.0s\n",
            "[CV 2/5] END preprocess=MinMaxScaler(), regressor=Ridge(), regressor__alpha=15;, score=(train=0.649, test=0.683) total time=   0.0s\n",
            "[CV 3/5] END preprocess=MinMaxScaler(), regressor=Ridge(), regressor__alpha=15;, score=(train=0.640, test=0.311) total time=   0.0s\n",
            "[CV 4/5] END preprocess=MinMaxScaler(), regressor=Ridge(), regressor__alpha=15;, score=(train=0.688, test=0.267) total time=   0.0s\n",
            "[CV 5/5] END preprocess=MinMaxScaler(), regressor=Ridge(), regressor__alpha=15;, score=(train=0.675, test=0.473) total time=   0.0s\n",
            "[CV 1/5] END preprocess=MinMaxScaler(), regressor=Ridge(), regressor__alpha=30;, score=(train=0.646, test=0.321) total time=   0.0s\n",
            "[CV 2/5] END preprocess=MinMaxScaler(), regressor=Ridge(), regressor__alpha=30;, score=(train=0.614, test=0.657) total time=   0.0s\n",
            "[CV 3/5] END preprocess=MinMaxScaler(), regressor=Ridge(), regressor__alpha=30;, score=(train=0.593, test=0.302) total time=   0.0s\n",
            "[CV 4/5] END preprocess=MinMaxScaler(), regressor=Ridge(), regressor__alpha=30;, score=(train=0.649, test=0.321) total time=   0.0s\n",
            "[CV 5/5] END preprocess=MinMaxScaler(), regressor=Ridge(), regressor__alpha=30;, score=(train=0.637, test=0.534) total time=   0.0s\n",
            "[CV 1/5] END preprocess=MinMaxScaler(), regressor=Ridge(), regressor__alpha=50;, score=(train=0.600, test=0.277) total time=   0.0s\n",
            "[CV 2/5] END preprocess=MinMaxScaler(), regressor=Ridge(), regressor__alpha=50;, score=(train=0.567, test=0.612) total time=   0.0s\n",
            "[CV 3/5] END preprocess=MinMaxScaler(), regressor=Ridge(), regressor__alpha=50;, score=(train=0.534, test=0.250) total time=   0.0s\n",
            "[CV 4/5] END preprocess=MinMaxScaler(), regressor=Ridge(), regressor__alpha=50;, score=(train=0.597, test=0.334) total time=   0.0s\n",
            "[CV 5/5] END preprocess=MinMaxScaler(), regressor=Ridge(), regressor__alpha=50;, score=(train=0.585, test=0.546) total time=   0.0s\n",
            "[CV 1/5] END preprocess=MinMaxScaler(), regressor=Ridge(), regressor__alpha=75;, score=(train=0.549, test=0.230) total time=   0.0s\n",
            "[CV 2/5] END preprocess=MinMaxScaler(), regressor=Ridge(), regressor__alpha=75;, score=(train=0.514, test=0.558) total time=   0.0s\n",
            "[CV 3/5] END preprocess=MinMaxScaler(), regressor=Ridge(), regressor__alpha=75;, score=(train=0.470, test=0.189) total time=   0.0s\n",
            "[CV 4/5] END preprocess=MinMaxScaler(), regressor=Ridge(), regressor__alpha=75;, score=(train=0.539, test=0.318) total time=   0.0s\n",
            "[CV 5/5] END preprocess=MinMaxScaler(), regressor=Ridge(), regressor__alpha=75;, score=(train=0.528, test=0.526) total time=   0.0s\n",
            "[CV 1/5] END preprocess=StandardScaler(), regressor=Lasso();, score=(train=0.700, test=0.356) total time=   0.0s\n",
            "[CV 2/5] END preprocess=StandardScaler(), regressor=Lasso();, score=(train=0.666, test=0.682) total time=   0.0s\n",
            "[CV 3/5] END preprocess=StandardScaler(), regressor=Lasso();, score=(train=0.663, test=0.346) total time=   0.0s\n",
            "[CV 4/5] END preprocess=StandardScaler(), regressor=Lasso();, score=(train=0.710, test=0.155) total time=   0.0s\n",
            "[CV 5/5] END preprocess=StandardScaler(), regressor=Lasso();, score=(train=0.697, test=0.356) total time=   0.0s\n",
            "[CV 1/5] END preprocess=MinMaxScaler(), regressor=Lasso();, score=(train=0.650, test=0.345) total time=   0.0s\n",
            "[CV 2/5] END preprocess=MinMaxScaler(), regressor=Lasso();, score=(train=0.624, test=0.683) total time=   0.0s\n",
            "[CV 3/5] END preprocess=MinMaxScaler(), regressor=Lasso();, score=(train=0.592, test=0.276) total time=   0.0s\n",
            "[CV 4/5] END preprocess=MinMaxScaler(), regressor=Lasso();, score=(train=0.668, test=0.372) total time=   0.0s\n",
            "[CV 5/5] END preprocess=MinMaxScaler(), regressor=Lasso();, score=(train=0.649, test=0.496) total time=   0.0s\n",
            "[CV 1/5] END preprocess=StandardScaler(), regressor=KNeighborsRegressor(), regressor__n_neighbors=1;, score=(train=1.000, test=0.235) total time=   0.0s\n",
            "[CV 2/5] END preprocess=StandardScaler(), regressor=KNeighborsRegressor(), regressor__n_neighbors=1;, score=(train=1.000, test=0.660) total time=   0.0s\n",
            "[CV 3/5] END preprocess=StandardScaler(), regressor=KNeighborsRegressor(), regressor__n_neighbors=1;, score=(train=1.000, test=-0.610) total time=   0.0s\n",
            "[CV 4/5] END preprocess=StandardScaler(), regressor=KNeighborsRegressor(), regressor__n_neighbors=1;, score=(train=1.000, test=0.631) total time=   0.0s\n",
            "[CV 5/5] END preprocess=StandardScaler(), regressor=KNeighborsRegressor(), regressor__n_neighbors=1;, score=(train=1.000, test=0.603) total time=   0.0s\n",
            "[CV 1/5] END preprocess=StandardScaler(), regressor=KNeighborsRegressor(), regressor__n_neighbors=3;, score=(train=0.977, test=0.360) total time=   0.0s\n",
            "[CV 2/5] END preprocess=StandardScaler(), regressor=KNeighborsRegressor(), regressor__n_neighbors=3;, score=(train=0.976, test=0.637) total time=   0.0s\n",
            "[CV 3/5] END preprocess=StandardScaler(), regressor=KNeighborsRegressor(), regressor__n_neighbors=3;, score=(train=0.981, test=-0.264) total time=   0.0s\n",
            "[CV 4/5] END preprocess=StandardScaler(), regressor=KNeighborsRegressor(), regressor__n_neighbors=3;, score=(train=0.979, test=0.716) total time=   0.0s\n",
            "[CV 5/5] END preprocess=StandardScaler(), regressor=KNeighborsRegressor(), regressor__n_neighbors=3;, score=(train=0.978, test=0.765) total time=   0.0s\n",
            "[CV 1/5] END preprocess=StandardScaler(), regressor=KNeighborsRegressor(), regressor__n_neighbors=5;, score=(train=0.956, test=0.379) total time=   0.0s\n",
            "[CV 2/5] END preprocess=StandardScaler(), regressor=KNeighborsRegressor(), regressor__n_neighbors=5;, score=(train=0.952, test=0.643) total time=   0.0s\n",
            "[CV 3/5] END preprocess=StandardScaler(), regressor=KNeighborsRegressor(), regressor__n_neighbors=5;, score=(train=0.965, test=0.140) total time=   0.0s\n",
            "[CV 4/5] END preprocess=StandardScaler(), regressor=KNeighborsRegressor(), regressor__n_neighbors=5;, score=(train=0.956, test=0.679) total time=   0.0s\n",
            "[CV 5/5] END preprocess=StandardScaler(), regressor=KNeighborsRegressor(), regressor__n_neighbors=5;, score=(train=0.960, test=0.759) total time=   0.0s\n",
            "[CV 1/5] END preprocess=StandardScaler(), regressor=KNeighborsRegressor(), regressor__n_neighbors=7;, score=(train=0.941, test=0.404) total time=   0.0s\n",
            "[CV 2/5] END preprocess=StandardScaler(), regressor=KNeighborsRegressor(), regressor__n_neighbors=7;, score=(train=0.937, test=0.720) total time=   0.0s\n",
            "[CV 3/5] END preprocess=StandardScaler(), regressor=KNeighborsRegressor(), regressor__n_neighbors=7;, score=(train=0.946, test=0.431) total time=   0.0s\n",
            "[CV 4/5] END preprocess=StandardScaler(), regressor=KNeighborsRegressor(), regressor__n_neighbors=7;, score=(train=0.941, test=0.670) total time=   0.0s\n",
            "[CV 5/5] END preprocess=StandardScaler(), regressor=KNeighborsRegressor(), regressor__n_neighbors=7;, score=(train=0.946, test=0.775) total time=   0.0s\n",
            "[CV 1/5] END preprocess=StandardScaler(), regressor=KNeighborsRegressor(), regressor__n_neighbors=9;, score=(train=0.922, test=0.398) total time=   0.0s\n",
            "[CV 2/5] END preprocess=StandardScaler(), regressor=KNeighborsRegressor(), regressor__n_neighbors=9;, score=(train=0.912, test=0.752) total time=   0.0s\n",
            "[CV 3/5] END preprocess=StandardScaler(), regressor=KNeighborsRegressor(), regressor__n_neighbors=9;, score=(train=0.923, test=0.541) total time=   0.0s\n",
            "[CV 4/5] END preprocess=StandardScaler(), regressor=KNeighborsRegressor(), regressor__n_neighbors=9;, score=(train=0.920, test=0.672) total time=   0.0s\n",
            "[CV 5/5] END preprocess=StandardScaler(), regressor=KNeighborsRegressor(), regressor__n_neighbors=9;, score=(train=0.926, test=0.803) total time=   0.0s\n",
            "[CV 1/5] END preprocess=StandardScaler(), regressor=KNeighborsRegressor(), regressor__n_neighbors=11;, score=(train=0.907, test=0.392) total time=   0.0s\n",
            "[CV 2/5] END preprocess=StandardScaler(), regressor=KNeighborsRegressor(), regressor__n_neighbors=11;, score=(train=0.888, test=0.757) total time=   0.0s\n",
            "[CV 3/5] END preprocess=StandardScaler(), regressor=KNeighborsRegressor(), regressor__n_neighbors=11;, score=(train=0.897, test=0.605) total time=   0.0s\n",
            "[CV 4/5] END preprocess=StandardScaler(), regressor=KNeighborsRegressor(), regressor__n_neighbors=11;, score=(train=0.898, test=0.674) total time=   0.0s\n",
            "[CV 5/5] END preprocess=StandardScaler(), regressor=KNeighborsRegressor(), regressor__n_neighbors=11;, score=(train=0.904, test=0.836) total time=   0.0s\n",
            "[CV 1/5] END preprocess=StandardScaler(), regressor=KNeighborsRegressor(), regressor__n_neighbors=13;, score=(train=0.900, test=0.394) total time=   0.0s\n",
            "[CV 2/5] END preprocess=StandardScaler(), regressor=KNeighborsRegressor(), regressor__n_neighbors=13;, score=(train=0.872, test=0.747) total time=   0.0s\n",
            "[CV 3/5] END preprocess=StandardScaler(), regressor=KNeighborsRegressor(), regressor__n_neighbors=13;, score=(train=0.867, test=0.613) total time=   0.0s\n",
            "[CV 4/5] END preprocess=StandardScaler(), regressor=KNeighborsRegressor(), regressor__n_neighbors=13;, score=(train=0.884, test=0.664) total time=   0.0s\n",
            "[CV 5/5] END preprocess=StandardScaler(), regressor=KNeighborsRegressor(), regressor__n_neighbors=13;, score=(train=0.887, test=0.842) total time=   0.0s\n",
            "[CV 1/5] END preprocess=StandardScaler(), regressor=KNeighborsRegressor(), regressor__n_neighbors=15;, score=(train=0.888, test=0.390) total time=   0.0s\n",
            "[CV 2/5] END preprocess=StandardScaler(), regressor=KNeighborsRegressor(), regressor__n_neighbors=15;, score=(train=0.856, test=0.752) total time=   0.0s\n",
            "[CV 3/5] END preprocess=StandardScaler(), regressor=KNeighborsRegressor(), regressor__n_neighbors=15;, score=(train=0.839, test=0.595) total time=   0.0s\n",
            "[CV 4/5] END preprocess=StandardScaler(), regressor=KNeighborsRegressor(), regressor__n_neighbors=15;, score=(train=0.867, test=0.670) total time=   0.0s\n",
            "[CV 5/5] END preprocess=StandardScaler(), regressor=KNeighborsRegressor(), regressor__n_neighbors=15;, score=(train=0.871, test=0.829) total time=   0.0s\n",
            "[CV 1/5] END preprocess=StandardScaler(), regressor=KNeighborsRegressor(), regressor__n_neighbors=17;, score=(train=0.879, test=0.380) total time=   0.0s\n",
            "[CV 2/5] END preprocess=StandardScaler(), regressor=KNeighborsRegressor(), regressor__n_neighbors=17;, score=(train=0.844, test=0.753) total time=   0.0s\n",
            "[CV 3/5] END preprocess=StandardScaler(), regressor=KNeighborsRegressor(), regressor__n_neighbors=17;, score=(train=0.815, test=0.561) total time=   0.0s\n",
            "[CV 4/5] END preprocess=StandardScaler(), regressor=KNeighborsRegressor(), regressor__n_neighbors=17;, score=(train=0.856, test=0.673) total time=   0.0s\n",
            "[CV 5/5] END preprocess=StandardScaler(), regressor=KNeighborsRegressor(), regressor__n_neighbors=17;, score=(train=0.856, test=0.803) total time=   0.0s\n",
            "[CV 1/5] END preprocess=StandardScaler(), regressor=KNeighborsRegressor(), regressor__n_neighbors=19;, score=(train=0.867, test=0.384) total time=   0.0s\n",
            "[CV 2/5] END preprocess=StandardScaler(), regressor=KNeighborsRegressor(), regressor__n_neighbors=19;, score=(train=0.831, test=0.757) total time=   0.0s\n",
            "[CV 3/5] END preprocess=StandardScaler(), regressor=KNeighborsRegressor(), regressor__n_neighbors=19;, score=(train=0.787, test=0.510) total time=   0.0s\n",
            "[CV 4/5] END preprocess=StandardScaler(), regressor=KNeighborsRegressor(), regressor__n_neighbors=19;, score=(train=0.839, test=0.676) total time=   0.0s\n",
            "[CV 5/5] END preprocess=StandardScaler(), regressor=KNeighborsRegressor(), regressor__n_neighbors=19;, score=(train=0.842, test=0.788) total time=   0.0s\n",
            "[CV 1/5] END preprocess=StandardScaler(), regressor=KNeighborsRegressor(), regressor__n_neighbors=21;, score=(train=0.850, test=0.390) total time=   0.0s\n",
            "[CV 2/5] END preprocess=StandardScaler(), regressor=KNeighborsRegressor(), regressor__n_neighbors=21;, score=(train=0.819, test=0.751) total time=   0.0s\n",
            "[CV 3/5] END preprocess=StandardScaler(), regressor=KNeighborsRegressor(), regressor__n_neighbors=21;, score=(train=0.761, test=0.449) total time=   0.0s\n",
            "[CV 4/5] END preprocess=StandardScaler(), regressor=KNeighborsRegressor(), regressor__n_neighbors=21;, score=(train=0.822, test=0.673) total time=   0.0s\n",
            "[CV 5/5] END preprocess=StandardScaler(), regressor=KNeighborsRegressor(), regressor__n_neighbors=21;, score=(train=0.828, test=0.777) total time=   0.0s\n",
            "[CV 1/5] END preprocess=StandardScaler(), regressor=KNeighborsRegressor(), regressor__n_neighbors=23;, score=(train=0.839, test=0.382) total time=   0.0s\n",
            "[CV 2/5] END preprocess=StandardScaler(), regressor=KNeighborsRegressor(), regressor__n_neighbors=23;, score=(train=0.810, test=0.741) total time=   0.0s\n",
            "[CV 3/5] END preprocess=StandardScaler(), regressor=KNeighborsRegressor(), regressor__n_neighbors=23;, score=(train=0.729, test=0.382) total time=   0.0s\n",
            "[CV 4/5] END preprocess=StandardScaler(), regressor=KNeighborsRegressor(), regressor__n_neighbors=23;, score=(train=0.806, test=0.676) total time=   0.0s\n",
            "[CV 5/5] END preprocess=StandardScaler(), regressor=KNeighborsRegressor(), regressor__n_neighbors=23;, score=(train=0.814, test=0.759) total time=   0.0s\n",
            "[CV 1/5] END preprocess=MinMaxScaler(), regressor=KNeighborsRegressor(), regressor__n_neighbors=1;, score=(train=1.000, test=0.407) total time=   0.0s\n",
            "[CV 2/5] END preprocess=MinMaxScaler(), regressor=KNeighborsRegressor(), regressor__n_neighbors=1;, score=(train=1.000, test=0.654) total time=   0.0s\n",
            "[CV 3/5] END preprocess=MinMaxScaler(), regressor=KNeighborsRegressor(), regressor__n_neighbors=1;, score=(train=1.000, test=-0.482) total time=   0.0s\n",
            "[CV 4/5] END preprocess=MinMaxScaler(), regressor=KNeighborsRegressor(), regressor__n_neighbors=1;, score=(train=1.000, test=0.599) total time=   0.0s\n",
            "[CV 5/5] END preprocess=MinMaxScaler(), regressor=KNeighborsRegressor(), regressor__n_neighbors=1;, score=(train=1.000, test=0.581) total time=   0.0s\n",
            "[CV 1/5] END preprocess=MinMaxScaler(), regressor=KNeighborsRegressor(), regressor__n_neighbors=3;, score=(train=0.981, test=0.373) total time=   0.0s\n",
            "[CV 2/5] END preprocess=MinMaxScaler(), regressor=KNeighborsRegressor(), regressor__n_neighbors=3;, score=(train=0.980, test=0.682) total time=   0.0s\n",
            "[CV 3/5] END preprocess=MinMaxScaler(), regressor=KNeighborsRegressor(), regressor__n_neighbors=3;, score=(train=0.985, test=-0.166) total time=   0.0s\n",
            "[CV 4/5] END preprocess=MinMaxScaler(), regressor=KNeighborsRegressor(), regressor__n_neighbors=3;, score=(train=0.982, test=0.717) total time=   0.0s\n",
            "[CV 5/5] END preprocess=MinMaxScaler(), regressor=KNeighborsRegressor(), regressor__n_neighbors=3;, score=(train=0.983, test=0.681) total time=   0.0s\n",
            "[CV 1/5] END preprocess=MinMaxScaler(), regressor=KNeighborsRegressor(), regressor__n_neighbors=5;, score=(train=0.967, test=0.374) total time=   0.0s\n",
            "[CV 2/5] END preprocess=MinMaxScaler(), regressor=KNeighborsRegressor(), regressor__n_neighbors=5;, score=(train=0.964, test=0.731) total time=   0.0s\n",
            "[CV 3/5] END preprocess=MinMaxScaler(), regressor=KNeighborsRegressor(), regressor__n_neighbors=5;, score=(train=0.977, test=0.188) total time=   0.0s\n",
            "[CV 4/5] END preprocess=MinMaxScaler(), regressor=KNeighborsRegressor(), regressor__n_neighbors=5;, score=(train=0.968, test=0.741) total time=   0.0s\n",
            "[CV 5/5] END preprocess=MinMaxScaler(), regressor=KNeighborsRegressor(), regressor__n_neighbors=5;, score=(train=0.971, test=0.700) total time=   0.0s\n",
            "[CV 1/5] END preprocess=MinMaxScaler(), regressor=KNeighborsRegressor(), regressor__n_neighbors=7;, score=(train=0.953, test=0.412) total time=   0.0s\n",
            "[CV 2/5] END preprocess=MinMaxScaler(), regressor=KNeighborsRegressor(), regressor__n_neighbors=7;, score=(train=0.947, test=0.794) total time=   0.0s\n",
            "[CV 3/5] END preprocess=MinMaxScaler(), regressor=KNeighborsRegressor(), regressor__n_neighbors=7;, score=(train=0.960, test=0.437) total time=   0.0s\n",
            "[CV 4/5] END preprocess=MinMaxScaler(), regressor=KNeighborsRegressor(), regressor__n_neighbors=7;, score=(train=0.951, test=0.736) total time=   0.0s\n",
            "[CV 5/5] END preprocess=MinMaxScaler(), regressor=KNeighborsRegressor(), regressor__n_neighbors=7;, score=(train=0.955, test=0.714) total time=   0.0s\n",
            "[CV 1/5] END preprocess=MinMaxScaler(), regressor=KNeighborsRegressor(), regressor__n_neighbors=9;, score=(train=0.934, test=0.437) total time=   0.0s\n",
            "[CV 2/5] END preprocess=MinMaxScaler(), regressor=KNeighborsRegressor(), regressor__n_neighbors=9;, score=(train=0.928, test=0.803) total time=   0.0s\n",
            "[CV 3/5] END preprocess=MinMaxScaler(), regressor=KNeighborsRegressor(), regressor__n_neighbors=9;, score=(train=0.941, test=0.524) total time=   0.0s\n",
            "[CV 4/5] END preprocess=MinMaxScaler(), regressor=KNeighborsRegressor(), regressor__n_neighbors=9;, score=(train=0.933, test=0.737) total time=   0.0s\n",
            "[CV 5/5] END preprocess=MinMaxScaler(), regressor=KNeighborsRegressor(), regressor__n_neighbors=9;, score=(train=0.938, test=0.727) total time=   0.0s\n",
            "[CV 1/5] END preprocess=MinMaxScaler(), regressor=KNeighborsRegressor(), regressor__n_neighbors=11;, score=(train=0.923, test=0.440) total time=   0.0s\n",
            "[CV 2/5] END preprocess=MinMaxScaler(), regressor=KNeighborsRegressor(), regressor__n_neighbors=11;, score=(train=0.911, test=0.803) total time=   0.0s\n",
            "[CV 3/5] END preprocess=MinMaxScaler(), regressor=KNeighborsRegressor(), regressor__n_neighbors=11;, score=(train=0.918, test=0.582) total time=   0.0s\n",
            "[CV 4/5] END preprocess=MinMaxScaler(), regressor=KNeighborsRegressor(), regressor__n_neighbors=11;, score=(train=0.919, test=0.706) total time=   0.0s\n",
            "[CV 5/5] END preprocess=MinMaxScaler(), regressor=KNeighborsRegressor(), regressor__n_neighbors=11;, score=(train=0.923, test=0.758) total time=   0.0s\n",
            "[CV 1/5] END preprocess=MinMaxScaler(), regressor=KNeighborsRegressor(), regressor__n_neighbors=13;, score=(train=0.912, test=0.429) total time=   0.0s\n",
            "[CV 2/5] END preprocess=MinMaxScaler(), regressor=KNeighborsRegressor(), regressor__n_neighbors=13;, score=(train=0.892, test=0.815) total time=   0.0s\n",
            "[CV 3/5] END preprocess=MinMaxScaler(), regressor=KNeighborsRegressor(), regressor__n_neighbors=13;, score=(train=0.892, test=0.600) total time=   0.0s\n",
            "[CV 4/5] END preprocess=MinMaxScaler(), regressor=KNeighborsRegressor(), regressor__n_neighbors=13;, score=(train=0.903, test=0.681) total time=   0.0s\n",
            "[CV 5/5] END preprocess=MinMaxScaler(), regressor=KNeighborsRegressor(), regressor__n_neighbors=13;, score=(train=0.907, test=0.759) total time=   0.0s\n",
            "[CV 1/5] END preprocess=MinMaxScaler(), regressor=KNeighborsRegressor(), regressor__n_neighbors=15;, score=(train=0.906, test=0.415) total time=   0.0s\n",
            "[CV 2/5] END preprocess=MinMaxScaler(), regressor=KNeighborsRegressor(), regressor__n_neighbors=15;, score=(train=0.880, test=0.798) total time=   0.0s\n",
            "[CV 3/5] END preprocess=MinMaxScaler(), regressor=KNeighborsRegressor(), regressor__n_neighbors=15;, score=(train=0.867, test=0.592) total time=   0.0s\n",
            "[CV 4/5] END preprocess=MinMaxScaler(), regressor=KNeighborsRegressor(), regressor__n_neighbors=15;, score=(train=0.892, test=0.655) total time=   0.0s\n",
            "[CV 5/5] END preprocess=MinMaxScaler(), regressor=KNeighborsRegressor(), regressor__n_neighbors=15;, score=(train=0.896, test=0.766) total time=   0.0s\n",
            "[CV 1/5] END preprocess=MinMaxScaler(), regressor=KNeighborsRegressor(), regressor__n_neighbors=17;, score=(train=0.896, test=0.400) total time=   0.0s\n",
            "[CV 2/5] END preprocess=MinMaxScaler(), regressor=KNeighborsRegressor(), regressor__n_neighbors=17;, score=(train=0.872, test=0.784) total time=   0.0s\n",
            "[CV 3/5] END preprocess=MinMaxScaler(), regressor=KNeighborsRegressor(), regressor__n_neighbors=17;, score=(train=0.844, test=0.557) total time=   0.0s\n",
            "[CV 4/5] END preprocess=MinMaxScaler(), regressor=KNeighborsRegressor(), regressor__n_neighbors=17;, score=(train=0.879, test=0.653) total time=   0.0s\n",
            "[CV 5/5] END preprocess=MinMaxScaler(), regressor=KNeighborsRegressor(), regressor__n_neighbors=17;, score=(train=0.885, test=0.769) total time=   0.0s\n",
            "[CV 1/5] END preprocess=MinMaxScaler(), regressor=KNeighborsRegressor(), regressor__n_neighbors=19;, score=(train=0.886, test=0.383) total time=   0.0s\n",
            "[CV 2/5] END preprocess=MinMaxScaler(), regressor=KNeighborsRegressor(), regressor__n_neighbors=19;, score=(train=0.862, test=0.774) total time=   0.0s\n",
            "[CV 3/5] END preprocess=MinMaxScaler(), regressor=KNeighborsRegressor(), regressor__n_neighbors=19;, score=(train=0.823, test=0.519) total time=   0.0s\n",
            "[CV 4/5] END preprocess=MinMaxScaler(), regressor=KNeighborsRegressor(), regressor__n_neighbors=19;, score=(train=0.867, test=0.652) total time=   0.0s\n",
            "[CV 5/5] END preprocess=MinMaxScaler(), regressor=KNeighborsRegressor(), regressor__n_neighbors=19;, score=(train=0.876, test=0.788) total time=   0.0s\n",
            "[CV 1/5] END preprocess=MinMaxScaler(), regressor=KNeighborsRegressor(), regressor__n_neighbors=21;, score=(train=0.877, test=0.377) total time=   0.0s\n",
            "[CV 2/5] END preprocess=MinMaxScaler(), regressor=KNeighborsRegressor(), regressor__n_neighbors=21;, score=(train=0.850, test=0.769) total time=   0.0s\n",
            "[CV 3/5] END preprocess=MinMaxScaler(), regressor=KNeighborsRegressor(), regressor__n_neighbors=21;, score=(train=0.796, test=0.454) total time=   0.0s\n",
            "[CV 4/5] END preprocess=MinMaxScaler(), regressor=KNeighborsRegressor(), regressor__n_neighbors=21;, score=(train=0.851, test=0.646) total time=   0.0s\n",
            "[CV 5/5] END preprocess=MinMaxScaler(), regressor=KNeighborsRegressor(), regressor__n_neighbors=21;, score=(train=0.862, test=0.805) total time=   0.0s\n",
            "[CV 1/5] END preprocess=MinMaxScaler(), regressor=KNeighborsRegressor(), regressor__n_neighbors=23;, score=(train=0.863, test=0.363) total time=   0.0s\n",
            "[CV 2/5] END preprocess=MinMaxScaler(), regressor=KNeighborsRegressor(), regressor__n_neighbors=23;, score=(train=0.837, test=0.762) total time=   0.0s\n",
            "[CV 3/5] END preprocess=MinMaxScaler(), regressor=KNeighborsRegressor(), regressor__n_neighbors=23;, score=(train=0.771, test=0.384) total time=   0.0s\n",
            "[CV 4/5] END preprocess=MinMaxScaler(), regressor=KNeighborsRegressor(), regressor__n_neighbors=23;, score=(train=0.834, test=0.644) total time=   0.0s\n",
            "[CV 5/5] END preprocess=MinMaxScaler(), regressor=KNeighborsRegressor(), regressor__n_neighbors=23;, score=(train=0.845, test=0.806) total time=   0.0s\n",
            "[CV 1/5] END preprocess=StandardScaler(), regressor=SVR(), regressor__kernel=linear;, score=(train=0.614, test=0.485) total time=   0.1s\n",
            "[CV 2/5] END preprocess=StandardScaler(), regressor=SVR(), regressor__kernel=linear;, score=(train=0.570, test=0.600) total time=   0.0s\n",
            "[CV 3/5] END preprocess=StandardScaler(), regressor=SVR(), regressor__kernel=linear;, score=(train=0.602, test=-0.273) total time=   0.0s\n",
            "[CV 4/5] END preprocess=StandardScaler(), regressor=SVR(), regressor__kernel=linear;, score=(train=0.620, test=0.362) total time=   0.0s\n",
            "[CV 5/5] END preprocess=StandardScaler(), regressor=SVR(), regressor__kernel=linear;, score=(train=0.616, test=0.530) total time=   0.0s\n",
            "[CV 1/5] END preprocess=StandardScaler(), regressor=SVR(), regressor__kernel=poly;, score=(train=0.667, test=0.249) total time=   0.0s\n",
            "[CV 2/5] END preprocess=StandardScaler(), regressor=SVR(), regressor__kernel=poly;, score=(train=0.575, test=0.501) total time=   0.0s\n",
            "[CV 3/5] END preprocess=StandardScaler(), regressor=SVR(), regressor__kernel=poly;, score=(train=0.348, test=0.725) total time=   0.0s\n",
            "[CV 4/5] END preprocess=StandardScaler(), regressor=SVR(), regressor__kernel=poly;, score=(train=0.646, test=-1.144) total time=   0.0s\n",
            "[CV 5/5] END preprocess=StandardScaler(), regressor=SVR(), regressor__kernel=poly;, score=(train=0.597, test=0.220) total time=   0.0s\n",
            "[CV 1/5] END preprocess=StandardScaler(), regressor=SVR(), regressor__kernel=rbf;, score=(train=0.398, test=0.311) total time=   0.0s\n",
            "[CV 2/5] END preprocess=StandardScaler(), regressor=SVR(), regressor__kernel=rbf;, score=(train=0.335, test=0.324) total time=   0.0s\n",
            "[CV 3/5] END preprocess=StandardScaler(), regressor=SVR(), regressor__kernel=rbf;, score=(train=0.374, test=-0.372) total time=   0.0s\n",
            "[CV 4/5] END preprocess=StandardScaler(), regressor=SVR(), regressor__kernel=rbf;, score=(train=0.357, test=0.386) total time=   0.0s\n",
            "[CV 5/5] END preprocess=StandardScaler(), regressor=SVR(), regressor__kernel=rbf;, score=(train=0.340, test=0.307) total time=   0.0s\n",
            "[CV 1/5] END preprocess=StandardScaler(), regressor=SVR(), regressor__kernel=sigmoid;, score=(train=0.340, test=0.374) total time=   0.1s\n",
            "[CV 2/5] END preprocess=StandardScaler(), regressor=SVR(), regressor__kernel=sigmoid;, score=(train=0.293, test=0.361) total time=   0.0s\n",
            "[CV 3/5] END preprocess=StandardScaler(), regressor=SVR(), regressor__kernel=sigmoid;, score=(train=0.244, test=-0.650) total time=   0.0s\n",
            "[CV 4/5] END preprocess=StandardScaler(), regressor=SVR(), regressor__kernel=sigmoid;, score=(train=0.323, test=0.461) total time=   0.1s\n",
            "[CV 5/5] END preprocess=StandardScaler(), regressor=SVR(), regressor__kernel=sigmoid;, score=(train=0.321, test=0.470) total time=   0.0s\n",
            "[CV 1/5] END preprocess=MinMaxScaler(), regressor=SVR(), regressor__kernel=linear;, score=(train=0.487, test=0.401) total time=   0.0s\n",
            "[CV 2/5] END preprocess=MinMaxScaler(), regressor=SVR(), regressor__kernel=linear;, score=(train=0.462, test=0.485) total time=   0.0s\n",
            "[CV 3/5] END preprocess=MinMaxScaler(), regressor=SVR(), regressor__kernel=linear;, score=(train=0.444, test=0.011) total time=   0.0s\n",
            "[CV 4/5] END preprocess=MinMaxScaler(), regressor=SVR(), regressor__kernel=linear;, score=(train=0.473, test=0.484) total time=   0.0s\n",
            "[CV 5/5] END preprocess=MinMaxScaler(), regressor=SVR(), regressor__kernel=linear;, score=(train=0.450, test=0.575) total time=   0.0s\n",
            "[CV 1/5] END preprocess=MinMaxScaler(), regressor=SVR(), regressor__kernel=poly;, score=(train=0.895, test=0.585) total time=   0.0s\n",
            "[CV 2/5] END preprocess=MinMaxScaler(), regressor=SVR(), regressor__kernel=poly;, score=(train=0.864, test=0.852) total time=   0.0s\n",
            "[CV 3/5] END preprocess=MinMaxScaler(), regressor=SVR(), regressor__kernel=poly;, score=(train=0.833, test=0.306) total time=   0.0s\n",
            "[CV 4/5] END preprocess=MinMaxScaler(), regressor=SVR(), regressor__kernel=poly;, score=(train=0.890, test=-2.980) total time=   0.0s\n",
            "[CV 5/5] END preprocess=MinMaxScaler(), regressor=SVR(), regressor__kernel=poly;, score=(train=0.889, test=0.664) total time=   0.0s\n",
            "[CV 1/5] END preprocess=MinMaxScaler(), regressor=SVR(), regressor__kernel=rbf;, score=(train=0.414, test=0.334) total time=   0.0s\n",
            "[CV 2/5] END preprocess=MinMaxScaler(), regressor=SVR(), regressor__kernel=rbf;, score=(train=0.381, test=0.389) total time=   0.0s\n",
            "[CV 3/5] END preprocess=MinMaxScaler(), regressor=SVR(), regressor__kernel=rbf;, score=(train=0.403, test=-0.295) total time=   0.0s\n",
            "[CV 4/5] END preprocess=MinMaxScaler(), regressor=SVR(), regressor__kernel=rbf;, score=(train=0.387, test=0.400) total time=   0.0s\n",
            "[CV 5/5] END preprocess=MinMaxScaler(), regressor=SVR(), regressor__kernel=rbf;, score=(train=0.355, test=0.409) total time=   0.0s\n",
            "[CV 1/5] END preprocess=MinMaxScaler(), regressor=SVR(), regressor__kernel=sigmoid;, score=(train=0.011, test=-0.008) total time=   0.0s\n",
            "[CV 2/5] END preprocess=MinMaxScaler(), regressor=SVR(), regressor__kernel=sigmoid;, score=(train=-0.054, test=-0.107) total time=   0.0s\n",
            "[CV 3/5] END preprocess=MinMaxScaler(), regressor=SVR(), regressor__kernel=sigmoid;, score=(train=-0.059, test=-0.356) total time=   0.1s\n",
            "[CV 4/5] END preprocess=MinMaxScaler(), regressor=SVR(), regressor__kernel=sigmoid;, score=(train=-0.105, test=0.115) total time=   0.1s\n",
            "[CV 5/5] END preprocess=MinMaxScaler(), regressor=SVR(), regressor__kernel=sigmoid;, score=(train=-0.095, test=-0.090) total time=   0.0s\n",
            "[CV 1/5] END preprocess=None, regressor=DecisionTreeRegressor();, score=(train=1.000, test=0.312) total time=   0.0s\n",
            "[CV 2/5] END preprocess=None, regressor=DecisionTreeRegressor();, score=(train=1.000, test=0.587) total time=   0.0s\n",
            "[CV 3/5] END preprocess=None, regressor=DecisionTreeRegressor();, score=(train=1.000, test=0.465) total time=   0.0s\n",
            "[CV 4/5] END preprocess=None, regressor=DecisionTreeRegressor();, score=(train=1.000, test=0.479) total time=   0.0s\n",
            "[CV 5/5] END preprocess=None, regressor=DecisionTreeRegressor();, score=(train=1.000, test=0.464) total time=   0.0s\n"
          ]
        },
        {
          "output_type": "execute_result",
          "data": {
            "text/plain": [
              "GridSearchCV(cv=5,\n",
              "             estimator=Pipeline(steps=(('preprocess', MinMaxScaler()),\n",
              "                                       ('regressor', LinearRegression()))),\n",
              "             param_grid=[{'preprocess': [StandardScaler(), MinMaxScaler()],\n",
              "                          'regressor': [LinearRegression()]},\n",
              "                         {'preprocess': [StandardScaler(), MinMaxScaler()],\n",
              "                          'regressor': [Ridge()],\n",
              "                          'regressor__alpha': [0.1, 0.3, 1, 3, 5, 10, 15, 30,\n",
              "                                               50, 75]},\n",
              "                         {'preprocess': [StandardSca...\n",
              "                         {'preprocess': [StandardScaler(), MinMaxScaler()],\n",
              "                          'regressor': [KNeighborsRegressor(n_neighbors=11)],\n",
              "                          'regressor__n_neighbors': [1, 3, 5, 7, 9, 11, 13, 15,\n",
              "                                                     17, 19, 21, 23]},\n",
              "                         {'preprocess': [StandardScaler(), MinMaxScaler()],\n",
              "                          'regressor': [SVR()],\n",
              "                          'regressor__kernel': ['linear', 'poly', 'rbf',\n",
              "                                                'sigmoid']},\n",
              "                         {'preprocess': [None],\n",
              "                          'regressor': [DecisionTreeRegressor()]}],\n",
              "             return_train_score=True, verbose=3)"
            ]
          },
          "metadata": {},
          "execution_count": 42
        }
      ]
    },
    {
      "cell_type": "code",
      "source": [
        "grid_m.best_params_"
      ],
      "metadata": {
        "colab": {
          "base_uri": "https://localhost:8080/"
        },
        "id": "NyLiMiNtSZ8R",
        "outputId": "734214b1-7368-4b8f-f158-f238a5c23b10"
      },
      "execution_count": 43,
      "outputs": [
        {
          "output_type": "execute_result",
          "data": {
            "text/plain": [
              "{'preprocess': MinMaxScaler(),\n",
              " 'regressor': KNeighborsRegressor(n_neighbors=11),\n",
              " 'regressor__n_neighbors': 11}"
            ]
          },
          "metadata": {},
          "execution_count": 43
        }
      ]
    },
    {
      "cell_type": "code",
      "source": [
        "estimators = [('ridge', RidgeCV()),\n",
        "              ('lasso', LassoCV(random_state=42)),\n",
        "               ('knr', KNeighborsRegressor(n_neighbors=20,\n",
        "                                           metric='euclidean'))]\n",
        "\n",
        "\n",
        "final_estimator = GradientBoostingRegressor(\n",
        "     n_estimators=25, subsample=0.5, min_samples_leaf=25, max_features=1,\n",
        "     random_state=42)\n",
        "\n",
        "reg = StackingRegressor(\n",
        "     estimators=estimators,\n",
        "     final_estimator=final_estimator)"
      ],
      "metadata": {
        "id": "wxJ1H2v9WDm9"
      },
      "execution_count": null,
      "outputs": []
    },
    {
      "cell_type": "code",
      "source": [
        "param_grid "
      ],
      "metadata": {
        "colab": {
          "base_uri": "https://localhost:8080/"
        },
        "id": "r7NqD1vgQ6j_",
        "outputId": "6d9ad764-da3e-4237-89da-27572483a8a5"
      },
      "execution_count": 139,
      "outputs": [
        {
          "output_type": "execute_result",
          "data": {
            "text/plain": [
              "{'alpha': array([0.0001, 0.0002, 0.0003, 0.0004, 0.0005, 0.0006, 0.0007, 0.0008,\n",
              "        0.0009]),\n",
              " 'l1_ratio': array([0.1, 0.2, 0.3, 0.4, 0.5, 0.6, 0.7, 0.8, 0.9]),\n",
              " 'max_iter': [100000]}"
            ]
          },
          "metadata": {},
          "execution_count": 139
        }
      ]
    },
    {
      "cell_type": "code",
      "source": [
        "np.arange(0.1,1.0,0.1)"
      ],
      "metadata": {
        "colab": {
          "base_uri": "https://localhost:8080/"
        },
        "id": "f3SD1TpGQYgR",
        "outputId": "b1426bb7-c967-4bc7-f111-39a4b830d199"
      },
      "execution_count": 134,
      "outputs": [
        {
          "output_type": "execute_result",
          "data": {
            "text/plain": [
              "array([0.1, 0.2, 0.3, 0.4, 0.5, 0.6, 0.7, 0.8, 0.9])"
            ]
          },
          "metadata": {},
          "execution_count": 134
        }
      ]
    },
    {
      "cell_type": "code",
      "source": [
        "\n",
        "\n",
        "param_grid = {'alpha': np.arange(1e-4,1e-3,1e-4),\n",
        "              'l1_ratio': np.arange(0.1,1.0,0.1),\n",
        "              'max_iter':[100000]}\n",
        "\n",
        "lasso_alph_range = np.arange(1e-4,1e-3,4e-5)\n",
        "lasso_param_grid = {'alpha': lasso_alph_range}\n",
        "\n",
        "     'preprocess': [StandardScaler(), MinMaxScaler()],\n",
        "     'regressor': [ElasticNet()],\n",
        "\n",
        " \n",
        " \n",
        "       'preprocess': [StandardScaler(), MinMaxScaler()],\n",
        "     'regressor': [Ridge()],\n",
        "     'regressor__alpha': [0.1, 0.3, 1, 3, 5, 10, 15, 30, 50, 75], \n",
        "  \n",
        "  \n",
        "      'preprocess': [StandardScaler(), MinMaxScaler()],\n",
        "     'regressor': [RidgeCV()],\n",
        "     'regressor__alphas': [0.05, 0.1, 0.3, 1, 3, 5, 10, 15, 30, 50, 75],\n",
        "     \n",
        "  \n",
        "  \n",
        "     'preprocess': [StandardScaler(), MinMaxScaler()],\n",
        "     'regressor': [LassoCV()],\n",
        "     'regressor__alphas': alphas2\n",
        "          'preprocess': [StandardScaler(), MinMaxScaler()],\n",
        "     'regressor': [Lasso()],\n",
        "     'regressor__alpha': [1, 0.1, 0.001, 0.0005],"
      ],
      "metadata": {
        "id": "WBeeW0-ID33m"
      },
      "execution_count": 27,
      "outputs": []
    },
    {
      "cell_type": "code",
      "source": [
        "import xgboost as xgb\n",
        "from lightgbm import LGBMRegressor"
      ],
      "metadata": {
        "id": "46Y2JjL6_g7l"
      },
      "execution_count": 3,
      "outputs": []
    },
    {
      "cell_type": "code",
      "source": [
        "h_params=[{'n_estimators': 1833, 'max_depth': 5, 'learning_rate': 0.1121792759, 'verbose': 0}, \n",
        "          {'n_estimators': 9699, 'max_depth': 7, 'learning_rate': 0.1603481692, 'num_leaves': 10, 'verbose': -1}, \n",
        "          {'n_estimators': 7482, 'max_depth': 16, 'learning_rate': 0.08874432474, 'colsample_bylevel': 0.8985728179926714, 'subsample': 0.9456095953392613, 'min_child_samples': 76, 'max_bin': 441, 'l2_leaf_reg': 4.369161316123442}, \n",
        "          {'n_estimators': 6356, 'max_depth': 8, 'learning_rate': 0.05564907504, 'l2_leaf_reg': 4.861011004218151, 'min_child_samples': 23}, \n",
        "          {'n_estimators': 3797, 'max_depth': 11, 'learning_rate': 0.02776310885, 'l2_leaf_reg': 5.149047265858214, 'min_child_samples': 12}, \n",
        "          {'n_estimators': 3315, 'max_depth': 11, 'learning_rate': 0.07331924703}, \n",
        "          {'n_estimators': 8976, 'max_depth': 10, 'learning_rate': 0.08747145625, 'num_leaves': 10, 'min_child_weight': 74, 'alpha': 0.09206520231143506, 'subsample': 0.5296666607945134}, \n",
        "          {'n_estimators': 1048, 'max_depth': 20, 'learning_rate': 0.09961398955, 'num_leaves': 32}, \n",
        "          {'n_estimators': 13037, 'max_depth': 14, 'learning_rate': 0.08952616823, 'num_leaves': 16, 'verbose': -1}, \n",
        "          {'n_estimators': 12935, 'max_depth': 17, 'learning_rate': 0.06636082526, 'num_leaves': 17, 'verbose': -1}, \n",
        "          {'n_estimators': 5624, 'max_depth': 20, 'learning_rate': 0.01863652732, 'num_leaves': 164}, \n",
        "          {'n_estimators': 2473, 'max_depth': 19, 'learning_rate': 0.03943885644, 'num_leaves': 102}, \n",
        "          {'n_estimators': 6690, 'max_depth': 17, 'learning_rate': 0.01807948951, 'num_leaves': 119}, \n",
        "          {'n_estimators': 7093, 'max_depth': 18, 'learning_rate': 0.02448476821, 'num_leaves': 85}, \n",
        "          {'n_estimators': 4292, 'max_depth': 16, 'learning_rate': 0.03043742343, 'num_leaves': 97}, \n",
        "          {'n_estimators': 4168, 'max_depth': 13, 'learning_rate': 0.04860827553, 'num_leaves': 85}, \n",
        "          {'n_estimators': 2576, 'max_depth': 29, 'learning_rate': 0.0431085983, 'num_leaves': 245, 'verbosity': -1}, \n",
        "          {'n_estimators': 1593, 'max_depth': 42, 'learning_rate': 0.01033448085, 'num_leaves': 245, 'verbosity': -1}, \n",
        "          {'n_estimators': 836, 'max_depth': 42, 'learning_rate': 0.1540753462, 'num_leaves': 113, 'verbosity': -1}, \n",
        "          {'n_estimators': 727, 'max_depth': 34, 'learning_rate': 0.1600727117, 'num_leaves': 74, 'verbosity': -1}, \n",
        "          {'n_estimators': 9789, 'max_depth': 29, 'learning_rate': 0.06871880461, 'num_leaves': 46, 'verbosity': -1}, \n",
        "          {'n_estimators': 12266, 'max_depth': 20, 'learning_rate': 0.05269683494, 'num_leaves': 56, 'verbosity': -1}, \n",
        "          {'n_estimators': 3630, 'max_depth': 33, 'learning_rate': 0.1021564607, 'num_leaves': 70, 'verbosity': -1},\n",
        "          {'n_estimators': 866, 'max_depth': 19, 'learning_rate': 0.05244185073, 'num_leaves': 20},\n",
        "          {'n_estimators': 3725, 'max_depth': 16, 'learning_rate': 0.1291892976, 'num_leaves': 14}, \n",
        "          {'n_estimators': 11963, 'max_depth': 28, 'learning_rate': 0.06079772926, 'subsample': 0.9873435671739007, 'num_leaves': 18, 'verbose': -1, 'min_child_samples': 52, 'reg_lambda': 3.6402158460803955}, \n",
        "          {'n_estimators': 1185, 'max_depth': 18, 'learning_rate': 0.1782109397, 'num_leaves': 50, 'verbose': -1}]"
      ],
      "metadata": {
        "id": "EeQGDAfJBHE0"
      },
      "execution_count": 13,
      "outputs": []
    },
    {
      "cell_type": "code",
      "source": [],
      "metadata": {
        "id": "ERcjxPKEFAme"
      },
      "execution_count": 150,
      "outputs": []
    },
    {
      "cell_type": "code",
      "source": [
        "# Ridge.alpha.get_params().keys()"
      ],
      "metadata": {
        "colab": {
          "base_uri": "https://localhost:8080/",
          "height": 174
        },
        "id": "fSFXp8yTIVlW",
        "outputId": "4fe11e2f-90b1-4a35-eb5c-e422c6b48e7e"
      },
      "execution_count": 59,
      "outputs": [
        {
          "output_type": "error",
          "ename": "AttributeError",
          "evalue": "ignored",
          "traceback": [
            "\u001b[0;31m---------------------------------------------------------------------------\u001b[0m",
            "\u001b[0;31mAttributeError\u001b[0m                            Traceback (most recent call last)",
            "\u001b[0;32m<ipython-input-59-b022aabdec2b>\u001b[0m in \u001b[0;36m<module>\u001b[0;34m\u001b[0m\n\u001b[0;32m----> 1\u001b[0;31m \u001b[0mRidge\u001b[0m\u001b[0;34m.\u001b[0m\u001b[0malpha\u001b[0m\u001b[0;34m.\u001b[0m\u001b[0mget_params\u001b[0m\u001b[0;34m(\u001b[0m\u001b[0;34m)\u001b[0m\u001b[0;34m.\u001b[0m\u001b[0mkeys\u001b[0m\u001b[0;34m(\u001b[0m\u001b[0;34m)\u001b[0m\u001b[0;34m\u001b[0m\u001b[0;34m\u001b[0m\u001b[0m\n\u001b[0m",
            "\u001b[0;31mAttributeError\u001b[0m: type object 'Ridge' has no attribute 'alpha'"
          ]
        }
      ]
    },
    {
      "cell_type": "markdown",
      "source": [
        "#################################################################################"
      ],
      "metadata": {
        "id": "pMdY46N5MHBb"
      }
    },
    {
      "cell_type": "code",
      "source": [
        "grid_m.best_params_"
      ],
      "metadata": {
        "colab": {
          "base_uri": "https://localhost:8080/"
        },
        "id": "2hq6-bT_Mibn",
        "outputId": "83cdcf62-a40e-4c1d-d44d-ecb4c01d3a9b"
      },
      "execution_count": 148,
      "outputs": [
        {
          "output_type": "execute_result",
          "data": {
            "text/plain": [
              "{'preprocess': MinMaxScaler(),\n",
              " 'regressor': ElasticNet(alpha=0.1),\n",
              " 'regressor__alpha': 0.1}"
            ]
          },
          "metadata": {},
          "execution_count": 148
        }
      ]
    },
    {
      "cell_type": "code",
      "source": [
        "LinearRegressionGD"
      ],
      "metadata": {
        "colab": {
          "base_uri": "https://localhost:8080/"
        },
        "id": "RP-UtoakK4yi",
        "outputId": "fcf9cb06-30b6-444c-ca0f-051da8bed668"
      },
      "execution_count": 35,
      "outputs": [
        {
          "output_type": "execute_result",
          "data": {
            "text/plain": [
              "__main__.LinearRegressionGD"
            ]
          },
          "metadata": {},
          "execution_count": 35
        }
      ]
    },
    {
      "cell_type": "code",
      "source": [
        "grid_m.score"
      ],
      "metadata": {
        "colab": {
          "base_uri": "https://localhost:8080/"
        },
        "id": "9j8TdZpnIDcm",
        "outputId": "4fe568eb-e6f0-45cc-a977-7f6eb8a3ca8f"
      },
      "execution_count": 64,
      "outputs": [
        {
          "output_type": "execute_result",
          "data": {
            "text/plain": [
              "<bound method BaseSearchCV.score of GridSearchCV(cv=5,\n",
              "             estimator=Pipeline(steps=(('preprocess', MinMaxScaler()),\n",
              "                                       ('regressor', LinearRegression()))),\n",
              "             param_grid=[{'preprocess': [StandardScaler(), MinMaxScaler()],\n",
              "                          'regressor': [Ridge(alpha=30)],\n",
              "                          'regressor__alpha': [0.1, 0.3, 1, 3, 5, 10, 15, 30,\n",
              "                                               50, 75]}],\n",
              "             return_train_score=True, verbose=3)>"
            ]
          },
          "metadata": {},
          "execution_count": 64
        }
      ]
    },
    {
      "cell_type": "code",
      "source": [
        "grid_m.best_score_"
      ],
      "metadata": {
        "colab": {
          "base_uri": "https://localhost:8080/"
        },
        "id": "_WDPfDwJHxze",
        "outputId": "7e5f327d-06ac-45e5-ba4d-3e338d0b4361"
      },
      "execution_count": 65,
      "outputs": [
        {
          "output_type": "execute_result",
          "data": {
            "text/plain": [
              "0.4269265847965662"
            ]
          },
          "metadata": {},
          "execution_count": 65
        }
      ]
    },
    {
      "cell_type": "code",
      "source": [
        "grid_m.cv_results_"
      ],
      "metadata": {
        "colab": {
          "base_uri": "https://localhost:8080/"
        },
        "id": "5WXiUNcZHpKn",
        "outputId": "08adfa54-583e-4265-c02d-e33bef89f4f9"
      },
      "execution_count": 12,
      "outputs": [
        {
          "output_type": "execute_result",
          "data": {
            "text/plain": [
              "{'mean_fit_time': array([0.01394224, 0.01500349, 0.01289716, 0.00848818, 0.00568833,\n",
              "        0.00713129, 0.00690007, 0.0080739 , 0.00616717, 0.00584145,\n",
              "        0.00615368, 0.00604978, 0.00573335, 0.00778451, 0.0095962 ,\n",
              "        0.00562077, 0.00564194, 0.00661478, 0.00538712, 0.00587792,\n",
              "        0.00758615, 0.00749202, 0.01115031, 0.01369796]),\n",
              " 'std_fit_time': array([6.53465495e-04, 1.67643437e-03, 5.43182187e-03, 3.62058855e-03,\n",
              "        1.18405359e-04, 2.62875292e-03, 1.05859585e-03, 4.91040456e-03,\n",
              "        4.79429186e-04, 5.11754025e-05, 4.31381603e-04, 1.02383678e-04,\n",
              "        3.20131174e-04, 3.77967658e-03, 6.20841354e-03, 2.75327584e-04,\n",
              "        2.74261712e-04, 2.17938912e-03, 1.54891389e-04, 4.46691099e-04,\n",
              "        2.20741891e-03, 3.23379634e-03, 3.85165782e-03, 1.18048451e-03]),\n",
              " 'mean_score_time': array([0.00262294, 0.0051723 , 0.00359015, 0.00236039, 0.00241847,\n",
              "        0.0023551 , 0.00251398, 0.00247998, 0.00250983, 0.00235019,\n",
              "        0.00246191, 0.00248857, 0.00245185, 0.0027236 , 0.00245419,\n",
              "        0.00233922, 0.00239468, 0.00239291, 0.00230203, 0.00232997,\n",
              "        0.00247798, 0.00344048, 0.00281606, 0.00540648]),\n",
              " 'std_score_time': array([1.02727990e-04, 2.59712360e-03, 1.96296761e-03, 5.01498959e-05,\n",
              "        1.89459194e-04, 1.88837027e-04, 1.51223370e-04, 2.02051237e-04,\n",
              "        3.81333804e-04, 5.31821166e-05, 1.04501232e-04, 1.39774254e-04,\n",
              "        1.17405249e-04, 3.15957842e-04, 1.53857596e-04, 4.04827727e-05,\n",
              "        1.12933221e-04, 1.60732364e-04, 5.71414481e-05, 3.82519113e-05,\n",
              "        1.73846392e-04, 1.48152362e-03, 3.11406449e-04, 2.41230146e-03]),\n",
              " 'param_preprocess': masked_array(data=[StandardScaler(), MinMaxScaler(), StandardScaler(),\n",
              "                    StandardScaler(), StandardScaler(), StandardScaler(),\n",
              "                    StandardScaler(), StandardScaler(), StandardScaler(),\n",
              "                    StandardScaler(), StandardScaler(), StandardScaler(),\n",
              "                    MinMaxScaler(), MinMaxScaler(), MinMaxScaler(),\n",
              "                    MinMaxScaler(), MinMaxScaler(), MinMaxScaler(),\n",
              "                    MinMaxScaler(), MinMaxScaler(), MinMaxScaler(),\n",
              "                    MinMaxScaler(), StandardScaler(), MinMaxScaler()],\n",
              "              mask=[False, False, False, False, False, False, False, False,\n",
              "                    False, False, False, False, False, False, False, False,\n",
              "                    False, False, False, False, False, False, False, False],\n",
              "        fill_value='?',\n",
              "             dtype=object),\n",
              " 'param_regressor': masked_array(data=[LinearRegression(), LinearRegression(), Ridge(),\n",
              "                    Ridge(), Ridge(), Ridge(), Ridge(), Ridge(), Ridge(),\n",
              "                    Ridge(), Ridge(), Ridge(), Ridge(), Ridge(), Ridge(),\n",
              "                    Ridge(), Ridge(), Ridge(), Ridge(), Ridge(), Ridge(),\n",
              "                    Ridge(), Lasso(), Lasso()],\n",
              "              mask=[False, False, False, False, False, False, False, False,\n",
              "                    False, False, False, False, False, False, False, False,\n",
              "                    False, False, False, False, False, False, False, False],\n",
              "        fill_value='?',\n",
              "             dtype=object),\n",
              " 'param_regressor__alpha': masked_array(data=[--, --, 0.1, 0.3, 1, 3, 5, 10, 15, 30, 50, 75, 0.1,\n",
              "                    0.3, 1, 3, 5, 10, 15, 30, 50, 75, --, --],\n",
              "              mask=[ True,  True, False, False, False, False, False, False,\n",
              "                    False, False, False, False, False, False, False, False,\n",
              "                    False, False, False, False, False, False,  True,  True],\n",
              "        fill_value='?',\n",
              "             dtype=object),\n",
              " 'params': [{'preprocess': StandardScaler(), 'regressor': LinearRegression()},\n",
              "  {'preprocess': MinMaxScaler(), 'regressor': LinearRegression()},\n",
              "  {'preprocess': StandardScaler(),\n",
              "   'regressor': Ridge(),\n",
              "   'regressor__alpha': 0.1},\n",
              "  {'preprocess': StandardScaler(),\n",
              "   'regressor': Ridge(),\n",
              "   'regressor__alpha': 0.3},\n",
              "  {'preprocess': StandardScaler(),\n",
              "   'regressor': Ridge(),\n",
              "   'regressor__alpha': 1},\n",
              "  {'preprocess': StandardScaler(),\n",
              "   'regressor': Ridge(),\n",
              "   'regressor__alpha': 3},\n",
              "  {'preprocess': StandardScaler(),\n",
              "   'regressor': Ridge(),\n",
              "   'regressor__alpha': 5},\n",
              "  {'preprocess': StandardScaler(),\n",
              "   'regressor': Ridge(),\n",
              "   'regressor__alpha': 10},\n",
              "  {'preprocess': StandardScaler(),\n",
              "   'regressor': Ridge(),\n",
              "   'regressor__alpha': 15},\n",
              "  {'preprocess': StandardScaler(),\n",
              "   'regressor': Ridge(),\n",
              "   'regressor__alpha': 30},\n",
              "  {'preprocess': StandardScaler(),\n",
              "   'regressor': Ridge(),\n",
              "   'regressor__alpha': 50},\n",
              "  {'preprocess': StandardScaler(),\n",
              "   'regressor': Ridge(),\n",
              "   'regressor__alpha': 75},\n",
              "  {'preprocess': MinMaxScaler(),\n",
              "   'regressor': Ridge(),\n",
              "   'regressor__alpha': 0.1},\n",
              "  {'preprocess': MinMaxScaler(),\n",
              "   'regressor': Ridge(),\n",
              "   'regressor__alpha': 0.3},\n",
              "  {'preprocess': MinMaxScaler(), 'regressor': Ridge(), 'regressor__alpha': 1},\n",
              "  {'preprocess': MinMaxScaler(), 'regressor': Ridge(), 'regressor__alpha': 3},\n",
              "  {'preprocess': MinMaxScaler(), 'regressor': Ridge(), 'regressor__alpha': 5},\n",
              "  {'preprocess': MinMaxScaler(), 'regressor': Ridge(), 'regressor__alpha': 10},\n",
              "  {'preprocess': MinMaxScaler(), 'regressor': Ridge(), 'regressor__alpha': 15},\n",
              "  {'preprocess': MinMaxScaler(), 'regressor': Ridge(), 'regressor__alpha': 30},\n",
              "  {'preprocess': MinMaxScaler(), 'regressor': Ridge(), 'regressor__alpha': 50},\n",
              "  {'preprocess': MinMaxScaler(), 'regressor': Ridge(), 'regressor__alpha': 75},\n",
              "  {'preprocess': StandardScaler(), 'regressor': Lasso()},\n",
              "  {'preprocess': MinMaxScaler(), 'regressor': Lasso()}],\n",
              " 'split0_test_score': array([0.19919288, 0.19084786, 0.19502091, 0.19681461, 0.20305628,\n",
              "        0.21992498, 0.23451013, 0.26178361, 0.28028741, 0.31169556,\n",
              "        0.33151132, 0.34360918, 0.21836015, 0.25202311, 0.30132961,\n",
              "        0.33766088, 0.34864281, 0.35448715, 0.35016397, 0.32079242,\n",
              "        0.27665437, 0.2295362 , 0.35598391, 0.34537615]),\n",
              " 'split1_test_score': array([0.68326888, 0.6780324 , 0.68649255, 0.68686313, 0.68766298,\n",
              "        0.68799829, 0.68749269, 0.68594661, 0.6847001 , 0.68223282,\n",
              "        0.68007308, 0.67779498, 0.6854105 , 0.68476088, 0.68399859,\n",
              "        0.68567754, 0.68737807, 0.68765465, 0.68337674, 0.65691321,\n",
              "        0.61197558, 0.55763463, 0.68221678, 0.68269165]),\n",
              " 'split2_test_score': array([-2.39795824, -2.39738005, -2.21329744, -2.03575334, -1.66943602,\n",
              "        -1.26585306, -1.08265518, -0.825711  , -0.66152635, -0.35433304,\n",
              "        -0.12658391,  0.03311968, -1.4989468 , -1.09537618, -0.59543972,\n",
              "        -0.07978625,  0.11321005,  0.27218183,  0.31050343,  0.30209572,\n",
              "         0.25022898,  0.18922499,  0.34567576,  0.27566264]),\n",
              " 'split3_test_score': array([-0.10185161, -0.1278525 , -0.12105432, -0.12607801, -0.13759389,\n",
              "        -0.14289898, -0.13238308, -0.09279287, -0.05501351,  0.02735043,\n",
              "         0.09364253,  0.14520967, -0.13099986, -0.09942552,  0.00415271,\n",
              "         0.11635068,  0.16433708,  0.22931203,  0.26746794,  0.32129955,\n",
              "         0.33420753,  0.31796597,  0.1549508 ,  0.37155485]),\n",
              " 'split4_test_score': array([0.29883793, 0.30170148, 0.29625133, 0.29819642, 0.30098924,\n",
              "        0.29829504, 0.29381891, 0.28671672, 0.28411   , 0.2877598 ,\n",
              "        0.30128426, 0.32019777, 0.30071839, 0.29333476, 0.29137929,\n",
              "        0.32735141, 0.36380568, 0.43053503, 0.47339663, 0.53353202,\n",
              "        0.54640899, 0.52628247, 0.35589405, 0.49588272]),\n",
              " 'mean_test_score': array([-2.63702034e-01, -2.70930163e-01, -2.31317394e-01, -1.95991440e-01,\n",
              "        -1.23064283e-01, -4.05067460e-02,  1.56693993e-04,  6.31886121e-02,\n",
              "         1.06511531e-01,  1.90941113e-01,  2.55985457e-01,  3.03986257e-01,\n",
              "        -8.50915246e-02,  7.06341161e-03,  1.37084095e-01,  2.77450851e-01,\n",
              "         3.35474737e-01,  3.94834138e-01,  4.16981744e-01,  4.26926585e-01,\n",
              "         4.03895090e-01,  3.64128852e-01,  3.78944259e-01,  4.34233601e-01]),\n",
              " 'std_test_score': array([1.09624103, 1.09397772, 1.02399913, 0.95577844, 0.81669227,\n",
              "        0.66712648, 0.60060605, 0.50827257, 0.44989195, 0.34333915,\n",
              "        0.26844776, 0.21915495, 0.75308697, 0.60463929, 0.42524368,\n",
              "        0.25547444, 0.20174325, 0.16191815, 0.14987032, 0.14301248,\n",
              "        0.1471513 , 0.15137757, 0.16988971, 0.14317894]),\n",
              " 'rank_test_score': array([23, 24, 22, 21, 20, 18, 17, 15, 14, 12, 11,  9, 19, 16, 13, 10,  8,\n",
              "         5,  3,  2,  4,  7,  6,  1], dtype=int32),\n",
              " 'split0_train_score': array([0.73093232, 0.73027621, 0.72858338, 0.72854944, 0.72826116,\n",
              "        0.72690911, 0.72543292, 0.72206815, 0.71925656, 0.71304209,\n",
              "        0.70737021, 0.70196577, 0.72757433, 0.72426845, 0.71605749,\n",
              "        0.70606699, 0.70073426, 0.69031469, 0.67985501, 0.64570606,\n",
              "        0.60011506, 0.54928914, 0.69996042, 0.65037162]),\n",
              " 'split1_train_score': array([0.69017911, 0.68976134, 0.68781286, 0.68776614, 0.68738551,\n",
              "        0.68583262, 0.68443835, 0.68191908, 0.68015221, 0.67647862,\n",
              "        0.67289579, 0.66905194, 0.6866814 , 0.68397722, 0.67909143,\n",
              "        0.67298376, 0.66889008, 0.65931108, 0.64888189, 0.61387504,\n",
              "        0.56662862, 0.51382325, 0.66624135, 0.62416104]),\n",
              " 'split2_train_score': array([0.714429  , 0.71436409, 0.71375648, 0.71333378, 0.71090038,\n",
              "        0.70499269, 0.70135283, 0.69630017, 0.69335849, 0.68759939,\n",
              "        0.68148112, 0.6743606 , 0.70848188, 0.70129065, 0.69272484,\n",
              "        0.68197996, 0.6737603 , 0.65641346, 0.64034392, 0.59285918,\n",
              "        0.53353288, 0.47033749, 0.66273274, 0.59159801]),\n",
              " 'split3_train_score': array([0.73691785, 0.73700953, 0.73519275, 0.73514673, 0.73478609,\n",
              "        0.73338274, 0.73212194, 0.72967099, 0.72773422, 0.72312839,\n",
              "        0.7182453 , 0.7130088 , 0.73407974, 0.73135927, 0.72520475,\n",
              "        0.7163379 , 0.71099854, 0.6998446 , 0.68818697, 0.64923567,\n",
              "        0.59685332, 0.53882939, 0.70981386, 0.66786186]),\n",
              " 'split4_train_score': array([0.71970742, 0.71945491, 0.71812388, 0.71803302, 0.71736354,\n",
              "        0.71507544, 0.71329886, 0.71042367, 0.70857284, 0.7050064 ,\n",
              "        0.70167464, 0.69803726, 0.71601644, 0.71229626, 0.70690493,\n",
              "        0.70091185, 0.69678241, 0.68655223, 0.67518544, 0.63689576,\n",
              "        0.58540793, 0.52835272, 0.69682189, 0.64912292]),\n",
              " 'mean_train_score': array([0.71843314, 0.71817321, 0.71669387, 0.71656582, 0.71573934,\n",
              "        0.71323852, 0.71132898, 0.70807641, 0.70581486, 0.70105098,\n",
              "        0.69633341, 0.69128487, 0.71456676, 0.71063837, 0.70399669,\n",
              "        0.69565609, 0.69023312, 0.67848721, 0.66649065, 0.62771434,\n",
              "        0.57650756, 0.5201264 , 0.68711405, 0.63662309]),\n",
              " 'std_train_score': array([0.01621025, 0.01627683, 0.01629942, 0.01631489, 0.01642905,\n",
              "        0.01682335, 0.017075  , 0.01726551, 0.01721904, 0.01692094,\n",
              "        0.01673549, 0.01680678, 0.01653284, 0.01682902, 0.01643794,\n",
              "        0.01590483, 0.01619413, 0.0174129 , 0.01853999, 0.0213428 ,\n",
              "        0.02447406, 0.02751947, 0.01899827, 0.02647145])}"
            ]
          },
          "metadata": {},
          "execution_count": 12
        }
      ]
    },
    {
      "cell_type": "code",
      "source": [],
      "metadata": {
        "id": "_qCEheE2Hs5S"
      },
      "execution_count": null,
      "outputs": []
    },
    {
      "cell_type": "code",
      "source": [
        "grid_m.best_params_"
      ],
      "metadata": {
        "colab": {
          "base_uri": "https://localhost:8080/"
        },
        "id": "akaLcWl-FBxR",
        "outputId": "cdd4c3c9-cd74-47a9-ff69-4d16dc4d1901"
      },
      "execution_count": 13,
      "outputs": [
        {
          "output_type": "execute_result",
          "data": {
            "text/plain": [
              "{'preprocess': MinMaxScaler(), 'regressor': Lasso()}"
            ]
          },
          "metadata": {},
          "execution_count": 13
        }
      ]
    },
    {
      "cell_type": "code",
      "source": [
        "sklearn.metrics.mean_squared_error(y_true, y_pred, *, sample_weight=None, multioutput='uniform_average', squared=True)"
      ],
      "metadata": {
        "id": "4JdDG5Q2HFIL"
      },
      "execution_count": null,
      "outputs": []
    },
    {
      "cell_type": "code",
      "source": [
        "list(range(0.0001,0.0005))"
      ],
      "metadata": {
        "colab": {
          "base_uri": "https://localhost:8080/",
          "height": 174
        },
        "id": "Ezv2-tmLLYve",
        "outputId": "ab1b45d3-8bb0-44cf-9aad-bf9dd8db634d"
      },
      "execution_count": 87,
      "outputs": [
        {
          "output_type": "error",
          "ename": "TypeError",
          "evalue": "ignored",
          "traceback": [
            "\u001b[0;31m---------------------------------------------------------------------------\u001b[0m",
            "\u001b[0;31mTypeError\u001b[0m                                 Traceback (most recent call last)",
            "\u001b[0;32m<ipython-input-87-5619e0d5b376>\u001b[0m in \u001b[0;36m<module>\u001b[0;34m\u001b[0m\n\u001b[0;32m----> 1\u001b[0;31m \u001b[0mlist\u001b[0m\u001b[0;34m(\u001b[0m\u001b[0mrange\u001b[0m\u001b[0;34m(\u001b[0m\u001b[0;36m0.0001\u001b[0m\u001b[0;34m,\u001b[0m\u001b[0;36m0.0005\u001b[0m\u001b[0;34m)\u001b[0m\u001b[0;34m)\u001b[0m\u001b[0;34m\u001b[0m\u001b[0;34m\u001b[0m\u001b[0m\n\u001b[0m",
            "\u001b[0;31mTypeError\u001b[0m: 'float' object cannot be interpreted as an integer"
          ]
        }
      ]
    },
    {
      "cell_type": "code",
      "source": [
        "from sklearn.preprocessing import MinMaxScaler, StandardScaler  # 전처리\n",
        "from sklearn.pipeline import Pipeline # 파이프\n",
        "from sklearn.model_selection import GridSearchCV # cross-validation\n",
        "\n",
        "from sklearn.linear_model import LinearRegression, Ridge, RANSACRegressor, RidgeCV, LassoCV\n",
        "from sklearn.neighbors import KNeighborsRegressor \n",
        "from sklearn.tree import DecisionTreeRegressor\n",
        "from sklearn.svm import SVR\n",
        "from sklearn.ensemble import GradientBoostingRegressor, RandomForestRegressor, VotingRegressor, StackingRegressor\n",
        "from sklearn.neural_network import MLPRegressor\n",
        "\n",
        "#from lightgbm import LGBMRegressor\n",
        "\n",
        "pip = Pipeline(((\"preprocess\", MinMaxScaler()), (\"regressor\", LinearRegression()))) # 디폴트 파이프라인 생성\n",
        "\n",
        "\n",
        "#파라미터\n",
        "import numpy as np\n",
        "class LinearRegressionGD(object):\n",
        "    \"\"\" Ordinary Linear Regression , Gradient Descent\"\"\"\n",
        "    def __init__(self,eta=0.001,n_iter = 20):\n",
        "        self.eta = eta\n",
        "        self.n_iter = 20\n",
        "        \n",
        "    def fit(self,X,y):\n",
        "        self.w_ = np.zeros(1+X.shape[1])\n",
        "        self.cost_ = []\n",
        "        \n",
        "        for i in range(self.n_iter):\n",
        "            output = self.net_input(X)\n",
        "            errors = (y - output)\n",
        "            self.w_[1:]+= self.eta * X.T.dot(errors)\n",
        "            self.w_[0] += self.eta * errors.sum()\n",
        "            cost = (errors**2).sum() /2.0\n",
        "            self.cost_.append(cost)\n",
        "            \n",
        "        return self\n",
        "    \n",
        "    def net_input(self,X):\n",
        "        return np.dot(X,self.w_[1:]) + self.w_[0]\n",
        "    \n",
        "    def predict(self,X):\n",
        "        return self.net_input(X)\n",
        "\n",
        "\n",
        "grid_parm = [\n",
        "    \n",
        "    {'preprocess': [StandardScaler(), MinMaxScaler()],\n",
        "     'regressor': [LinearRegression()],\n",
        "     'n_jobs': -1 },\n",
        "\n",
        "    {'preprocess': [StandardScaler(), MinMaxScaler()],\n",
        "     'classifier': [SVC()],\n",
        "     'classifier__gamma': [1,10,100],\n",
        "     'classifier__kernel': ['poly', 'rbf']},\n",
        "\n",
        "    {'preprocess': [None],\n",
        "     'classifier': [GaussianNB()]},\n",
        "    \n",
        " \n",
        "    {'preprocess': [None],\n",
        "     'classifier': [DecisionTreeClassifier()],\n",
        "     'classifier__criterion': ['gini','entropy'],\n",
        "     'classifier__max_depth': list(range(2,15)) },\n",
        "   \n",
        "    {'preprocess': [None],\n",
        "     'classifier': [RandomForestClassifier()],\n",
        "     'classifier__n_estimators': [50,100,150] },\n",
        "\n",
        "    {'preprocess': [None],\n",
        "     'classifier': [AdaBoostClassifier()],\n",
        "     'classifier__n_estimators': [50,100,150] },\n",
        "   \n",
        "    {'preprocess': [StandardScaler(), MinMaxScaler()],\n",
        "     'classifier': [MLPClssifier],\n",
        "     'classifier_hidden_layet_sizes': [(100,),(100,100),(100,100,100)],  # 세번째, 히든레이어 세개, 노드개수 100개\n",
        "     'classifier_max_iter' :[1000]}\n",
        "]\n",
        "\n",
        "\n",
        "\n",
        "\n",
        "\n",
        "\n",
        "\n",
        "\n",
        "\n",
        "\n",
        "\n",
        "\n",
        "\n",
        "\n",
        "\n",
        "\n",
        "\n",
        "\n",
        "\n",
        "\n",
        "from sklearn.linear_model import RidgeCV, LassoCV\n",
        "from sklearn.neighbors import KNeighborsRegressor\n",
        "estimators = [('ridge', RidgeCV()),\n",
        "              ('lasso', LassoCV(random_state=42)),\n",
        "               ('knr', KNeighborsRegressor(n_neighbors=20,\n",
        "                                           metric='euclidean'))]\n",
        "\n",
        "from sklearn.ensemble import GradientBoostingRegressor\n",
        "from sklearn.ensemble import StackingRegressor\n",
        "\n",
        "\n",
        "estimators = [('ridge', RidgeCV()),\n",
        "              ('lasso', LassoCV(random_state=42)),\n",
        "               ('knr', KNeighborsRegressor(n_neighbors=20,\n",
        "                                           metric='euclidean'))]\n",
        "\n",
        "\n",
        "final_estimator = GradientBoostingRegressor(\n",
        "     n_estimators=25, subsample=0.5, min_samples_leaf=25, max_features=1,\n",
        "     random_state=42)\n",
        "\n",
        "reg = StackingRegressor(\n",
        "     estimators=estimators,\n",
        "     final_estimator=final_estimator)"
      ],
      "metadata": {
        "colab": {
          "base_uri": "https://localhost:8080/",
          "height": 248
        },
        "id": "1KVLcD-Kcu_C",
        "outputId": "66f83ace-7281-4d81-ef6d-d03c89fff206"
      },
      "execution_count": 3,
      "outputs": [
        {
          "output_type": "error",
          "ename": "NameError",
          "evalue": "ignored",
          "traceback": [
            "\u001b[0;31m---------------------------------------------------------------------------\u001b[0m",
            "\u001b[0;31mNameError\u001b[0m                                 Traceback (most recent call last)",
            "\u001b[0;32m<ipython-input-3-32e4fba30f25>\u001b[0m in \u001b[0;36m<module>\u001b[0;34m\u001b[0m\n\u001b[1;32m     23\u001b[0m \u001b[0;34m\u001b[0m\u001b[0m\n\u001b[1;32m     24\u001b[0m     {'preprocess': [StandardScaler(), MinMaxScaler()],\n\u001b[0;32m---> 25\u001b[0;31m      \u001b[0;34m'classifier'\u001b[0m\u001b[0;34m:\u001b[0m \u001b[0;34m[\u001b[0m\u001b[0mSVC\u001b[0m\u001b[0;34m(\u001b[0m\u001b[0;34m)\u001b[0m\u001b[0;34m]\u001b[0m\u001b[0;34m,\u001b[0m\u001b[0;34m\u001b[0m\u001b[0;34m\u001b[0m\u001b[0m\n\u001b[0m\u001b[1;32m     26\u001b[0m      \u001b[0;34m'classifier__gamma'\u001b[0m\u001b[0;34m:\u001b[0m \u001b[0;34m[\u001b[0m\u001b[0;36m1\u001b[0m\u001b[0;34m,\u001b[0m\u001b[0;36m10\u001b[0m\u001b[0;34m,\u001b[0m\u001b[0;36m100\u001b[0m\u001b[0;34m]\u001b[0m\u001b[0;34m,\u001b[0m\u001b[0;34m\u001b[0m\u001b[0;34m\u001b[0m\u001b[0m\n\u001b[1;32m     27\u001b[0m      'classifier__kernel': ['poly', 'rbf']},\n",
            "\u001b[0;31mNameError\u001b[0m: name 'SVC' is not defined"
          ]
        }
      ]
    },
    {
      "cell_type": "code",
      "source": [
        "from sklearn.neighbors import KNeighborsRegressor #https://scikit-learn.org/stable/modules/generated/sklearn.neighbors.KNeighborsRegressor.html#sklearn.neighbors.KNeighborsRegressor\n",
        "\n",
        "\n",
        "from sklearn import tree #tree.DecisionTreeRegressor()\n",
        "from sklearn.ensemble import GradientBoostingRegressor, RandomForestRegressor, VotingRegressor\n",
        "\n",
        "from lightgbm import LGBMRegressor\n",
        "\n",
        "from sklearn import svm\n",
        "\n",
        "\n",
        "svm.SVR()"
      ],
      "metadata": {
        "id": "XgArOb8PhIvG"
      },
      "execution_count": null,
      "outputs": []
    },
    {
      "cell_type": "code",
      "source": [
        "\n",
        "\n",
        "parm_grid = [\n",
        "    {'n_neighbors' : [1, 3, 5, 7, 9, 11, 13, 15, 17, 19, 21, 23]}\n",
        "     #{'n_neighbors' : list(range(1,25,2))} # 리스트\n",
        "]"
      ],
      "metadata": {
        "id": "Zg6IPmc-XFYQ"
      },
      "execution_count": null,
      "outputs": []
    },
    {
      "cell_type": "code",
      "source": [
        "from sklearn.svm import SVC\n",
        "?SVC"
      ],
      "metadata": {
        "id": "eMXVrsTqMdRe"
      },
      "execution_count": 43,
      "outputs": []
    },
    {
      "cell_type": "code",
      "source": [
        "grid_parm = [\n",
        "    \n",
        "    {'preprocess': [StandardScaler(), MinMaxScaler()],\n",
        "     'model': [KNeighborsClassifier()],\n",
        "     'classifier__n_neighbors': list(range(1,25,2))},\n",
        "\n",
        "    {'preprocess': [StandardScaler(), MinMaxScaler()],\n",
        "     'classifier': [SVC()],\n",
        "     'classifier__gamma': [1,10,100],\n",
        "     'classifier__kernel': ['poly', 'rbf']},\n",
        "\n",
        "    {'preprocess': [None],\n",
        "     'classifier': [GaussianNB()]},\n",
        "    \n",
        " \n",
        "    {'preprocess': [None],\n",
        "     'classifier': [DecisionTreeClassifier()],\n",
        "     'classifier__criterion': ['gini','entropy'],\n",
        "     'classifier__max_depth': list(range(2,15)) },\n",
        "   \n",
        "    {'preprocess': [None],\n",
        "     'classifier': [RandomForestClassifier()],\n",
        "     'classifier__n_estimators': [50,100,150] },\n",
        "\n",
        "    {'preprocess': [None],\n",
        "     'classifier': [AdaBoostClassifier()],\n",
        "     'classifier__n_estimators': [50,100,150] },\n",
        "   \n",
        "    {'preprocess': [StandardScaler(), MinMaxScaler()],\n",
        "     'classifier': [MLPClssifier],\n",
        "     'classifier_hidden_layet_sizes': [(100,),(100,100),(100,100,100)],  # 세번째, 히든레이어 세개, 노드개수 100개\n",
        "     'classifier_max_iter' :[1000]}\n",
        "]\n"
      ],
      "metadata": {
        "id": "yh67pTvgcff6"
      },
      "execution_count": null,
      "outputs": []
    },
    {
      "cell_type": "code",
      "source": [
        "reg = XGBRegressor(\n",
        "            n_estimators=50, ## 붓스트랩 샘플 개수 또는 base_estimator 개수\n",
        "            max_depth=5, ## 개별 나무의 최대 깊이\n",
        "            gamma = 0, ## gamma\n",
        "            reg_lambda = 1, ## tuning parameter of l2 penalty\n",
        "            random_state=100\n",
        "        ).fit(X,y)\n",
        "\n",
        "        "
      ],
      "metadata": {
        "id": "MeHsmRU7kTZo"
      },
      "execution_count": null,
      "outputs": []
    },
    {
      "cell_type": "code",
      "source": [
        ">>> final_layer_rfr = RandomForestRegressor(\n",
        "...     n_estimators=10, max_features=1, max_leaf_nodes=5,random_state=42)\n",
        ">>> final_layer_gbr = GradientBoostingRegressor(\n",
        "...     n_estimators=10, max_features=1, max_leaf_nodes=5,random_state=42)\n",
        ">>> final_layer = StackingRegressor(\n",
        "...     estimators=[('rf', final_layer_rfr),\n",
        "...                 ('gbrt', final_layer_gbr)],\n",
        "...     final_estimator=RidgeCV()\n",
        "...     )\n",
        ">>> multi_layer_regressor = StackingRegressor(\n",
        "...     estimators=[('ridge', RidgeCV()),\n",
        "...                 ('lasso', LassoCV(random_state=42)),\n",
        "...                 ('knr', KNeighborsRegressor(n_neighbors=20,\n",
        "...                                             metric='euclidean'))],\n",
        "...     final_estimator=final_layer\n",
        "... )\n",
        ">>> multi_layer_regressor.fit(X_train, y_train)"
      ],
      "metadata": {
        "id": "JE95naJh772T"
      },
      "execution_count": null,
      "outputs": []
    }
  ]
}