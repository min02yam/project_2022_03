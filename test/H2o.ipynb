{
  "cells": [
    {
      "cell_type": "markdown",
      "metadata": {
        "id": "view-in-github",
        "colab_type": "text"
      },
      "source": [
        "<a href=\"https://colab.research.google.com/github/min02yam/project_2022_03/blob/main/H20.ipynb\" target=\"_parent\"><img src=\"https://colab.research.google.com/assets/colab-badge.svg\" alt=\"Open In Colab\"/></a>"
      ]
    },
    {
      "cell_type": "code",
      "source": [
        "install.packages(\"h2o\")\n",
        "library(h2o)"
      ],
      "metadata": {
        "colab": {
          "base_uri": "https://localhost:8080/"
        },
        "id": "RvO_dKn2a5QB",
        "outputId": "c89460c3-ea06-45ac-d108-92393f7ad8e2"
      },
      "execution_count": 1,
      "outputs": [
        {
          "output_type": "stream",
          "name": "stderr",
          "text": [
            "Installing package into ‘/usr/local/lib/R/site-library’\n",
            "(as ‘lib’ is unspecified)\n",
            "\n",
            "also installing the dependencies ‘bitops’, ‘RCurl’\n",
            "\n",
            "\n",
            "\n",
            "----------------------------------------------------------------------\n",
            "\n",
            "Your next step is to start H2O:\n",
            "    > h2o.init()\n",
            "\n",
            "For H2O package documentation, ask for help:\n",
            "    > ??h2o\n",
            "\n",
            "After starting H2O, you can use the Web UI at http://localhost:54321\n",
            "For more information visit https://docs.h2o.ai\n",
            "\n",
            "----------------------------------------------------------------------\n",
            "\n",
            "\n",
            "\n",
            "Attaching package: ‘h2o’\n",
            "\n",
            "\n",
            "The following objects are masked from ‘package:stats’:\n",
            "\n",
            "    cor, sd, var\n",
            "\n",
            "\n",
            "The following objects are masked from ‘package:base’:\n",
            "\n",
            "    &&, %*%, %in%, ||, apply, as.factor, as.numeric, colnames,\n",
            "    colnames<-, ifelse, is.character, is.factor, is.numeric, log,\n",
            "    log10, log1p, log2, round, signif, trunc\n",
            "\n",
            "\n"
          ]
        }
      ]
    },
    {
      "cell_type": "code",
      "source": [
        "require(magrittr)\n",
        "require(data.table)\n",
        "require(dplyr)\n",
        "require(readr)"
      ],
      "metadata": {
        "colab": {
          "base_uri": "https://localhost:8080/"
        },
        "id": "X7K3sLF5t4P-",
        "outputId": "1b8f3c21-310a-4b86-a05e-7249191c8769"
      },
      "execution_count": 13,
      "outputs": [
        {
          "output_type": "stream",
          "name": "stderr",
          "text": [
            "Loading required package: magrittr\n",
            "\n"
          ]
        }
      ]
    },
    {
      "cell_type": "code",
      "source": [
        "system(\"gdown --id 1PwFE91U4jhsO5gM4bWdnyvAClto3txOb\")  # train\n",
        "system(\"gdown --id 18elLaOJbV9rM-I0C-G1yswWKrc7ZV6yr\")  # test"
      ],
      "metadata": {
        "id": "H6LBRrvcazQV"
      },
      "execution_count": 3,
      "outputs": []
    },
    {
      "cell_type": "code",
      "source": [
        "h2o.init(max_mem_size = \"4g\", nthreads = 5)"
      ],
      "metadata": {
        "colab": {
          "base_uri": "https://localhost:8080/"
        },
        "id": "mkzgXAxtb3iu",
        "outputId": "daed0a1e-1457-4198-831f-10c70255c00b"
      },
      "execution_count": 4,
      "outputs": [
        {
          "output_type": "stream",
          "name": "stdout",
          "text": [
            "\n",
            "H2O is not running yet, starting it now...\n",
            "\n",
            "Note:  In case of errors look at the following log files:\n",
            "    /tmp/RtmpZuKmKl/file4755f5edf2/h2o_UnknownUser_started_from_r.out\n",
            "    /tmp/RtmpZuKmKl/file47447dd0c/h2o_UnknownUser_started_from_r.err\n",
            "\n",
            "\n",
            "Starting H2O JVM and connecting: .... Connection successful!\n",
            "\n",
            "R is connected to the H2O cluster: \n",
            "    H2O cluster uptime:         2 seconds 474 milliseconds \n",
            "    H2O cluster timezone:       Etc/UTC \n",
            "    H2O data parsing timezone:  UTC \n",
            "    H2O cluster version:        3.38.0.1 \n",
            "    H2O cluster version age:    2 months and 17 days  \n",
            "    H2O cluster name:           H2O_started_from_R_root_zqn464 \n",
            "    H2O cluster total nodes:    1 \n",
            "    H2O cluster total memory:   4.00 GB \n",
            "    H2O cluster total cores:    2 \n",
            "    H2O cluster allowed cores:  2 \n",
            "    H2O cluster healthy:        TRUE \n",
            "    H2O Connection ip:          localhost \n",
            "    H2O Connection port:        54321 \n",
            "    H2O Connection proxy:       NA \n",
            "    H2O Internal Security:      FALSE \n",
            "    R Version:                  R version 4.2.2 Patched (2022-11-10 r83330) \n",
            "\n"
          ]
        }
      ]
    },
    {
      "cell_type": "code",
      "source": [
        "DT= fread(\"train.csv\")"
      ],
      "metadata": {
        "id": "P3ZaMib6c0kS"
      },
      "execution_count": 5,
      "outputs": []
    },
    {
      "cell_type": "code",
      "source": [
        "h2o_dt = as.h2o(DT)\n",
        "\n",
        "split_dt = h2o.splitFrame(h2o_dt, c(0.7), seed=49)\n",
        "train =  h2o.assign(split_dt[[1]], \"train\")\n",
        "test = h2o.assign(split_dt[[2]], \"test\")"
      ],
      "metadata": {
        "colab": {
          "base_uri": "https://localhost:8080/"
        },
        "id": "YpgI9nerb74q",
        "outputId": "1f77d988-fdfe-40b5-d1a4-97f8205aac90"
      },
      "execution_count": 6,
      "outputs": [
        {
          "output_type": "stream",
          "name": "stdout",
          "text": [
            "  |======================================================================| 100%\n"
          ]
        }
      ]
    },
    {
      "cell_type": "code",
      "source": [
        "y = \"predicted_weight_g\"\n",
        "x = setdiff(names(train), y)"
      ],
      "metadata": {
        "id": "JKWzf1PHc-qM"
      },
      "execution_count": 7,
      "outputs": []
    },
    {
      "cell_type": "code",
      "source": [
        "aml = h2o.automl(x = x, y = y,\n",
        "                training_frame = train,\n",
        "                max_models = 20,\n",
        "                seed = 49)"
      ],
      "metadata": {
        "colab": {
          "base_uri": "https://localhost:8080/"
        },
        "id": "ir-zmYOedI8l",
        "outputId": "2012b253-9fc5-44e4-d031-070cbcd577ad"
      },
      "execution_count": 8,
      "outputs": [
        {
          "output_type": "stream",
          "name": "stdout",
          "text": [
            "  |======================================================================| 100%\n"
          ]
        }
      ]
    },
    {
      "cell_type": "code",
      "source": [
        "lb = aml@leaderboard\n",
        "print(lb, n = nrow(lb))"
      ],
      "metadata": {
        "colab": {
          "base_uri": "https://localhost:8080/"
        },
        "id": "8cOz1Z_qdJoU",
        "outputId": "74074b19-26c4-4ad1-b8d7-a1f251bac509"
      },
      "execution_count": 9,
      "outputs": [
        {
          "output_type": "stream",
          "name": "stdout",
          "text": [
            "                                                  model_id      rmse       mse\n",
            "1  StackedEnsemble_BestOfFamily_1_AutoML_1_20221207_130819  7.596724  57.71021\n",
            "2     StackedEnsemble_AllModels_1_AutoML_1_20221207_130819  7.634013  58.27815\n",
            "3                           GBM_4_AutoML_1_20221207_130819  7.876706  62.04250\n",
            "4                           GBM_3_AutoML_1_20221207_130819  8.502536  72.29312\n",
            "5                           GBM_5_AutoML_1_20221207_130819  8.795446  77.35987\n",
            "6                           GBM_2_AutoML_1_20221207_130819  8.809905  77.61442\n",
            "7          XGBoost_grid_1_AutoML_1_20221207_130819_model_2  8.914641  79.47083\n",
            "8                       XGBoost_1_AutoML_1_20221207_130819  9.800329  96.04644\n",
            "9                           XRT_1_AutoML_1_20221207_130819 10.181802 103.66909\n",
            "10                      XGBoost_3_AutoML_1_20221207_130819 10.204073 104.12311\n",
            "11         XGBoost_grid_1_AutoML_1_20221207_130819_model_1 10.497450 110.19646\n",
            "12                      XGBoost_2_AutoML_1_20221207_130819 10.547719 111.25437\n",
            "13         XGBoost_grid_1_AutoML_1_20221207_130819_model_3 10.714723 114.80529\n",
            "14                          DRF_1_AutoML_1_20221207_130819 10.860920 117.95959\n",
            "15             GBM_grid_1_AutoML_1_20221207_130819_model_1 10.880143 118.37752\n",
            "16             GBM_grid_1_AutoML_1_20221207_130819_model_2 10.995008 120.89020\n",
            "17    DeepLearning_grid_1_AutoML_1_20221207_130819_model_1 12.437054 154.68031\n",
            "18                          GBM_1_AutoML_1_20221207_130819 17.488776 305.85728\n",
            "19                 DeepLearning_1_AutoML_1_20221207_130819 18.580350 345.22940\n",
            "20    DeepLearning_grid_3_AutoML_1_20221207_130819_model_1 21.345610 455.63505\n",
            "21                          GLM_1_AutoML_1_20221207_130819 23.208366 538.62823\n",
            "22    DeepLearning_grid_2_AutoML_1_20221207_130819_model_1 26.734301 714.72283\n",
            "         mae     rmsle mean_residual_deviance\n",
            "1   4.663081       NaN               57.71021\n",
            "2   4.743322       NaN               58.27815\n",
            "3   4.790070       NaN               62.04250\n",
            "4   4.875387       NaN               72.29312\n",
            "5   5.192108 0.3247545               77.35987\n",
            "6   5.273136       NaN               77.61442\n",
            "7   5.332356       NaN               79.47083\n",
            "8   6.272917       NaN               96.04644\n",
            "9   6.104020 0.3676048              103.66909\n",
            "10  6.251290       NaN              104.12311\n",
            "11  6.253415       NaN              110.19646\n",
            "12  6.279255       NaN              111.25437\n",
            "13  6.179542       NaN              114.80529\n",
            "14  6.489211 0.3784180              117.95959\n",
            "15  6.490673       NaN              118.37752\n",
            "16  7.132098       NaN              120.89020\n",
            "17  8.575345       NaN              154.68031\n",
            "18 12.852634       NaN              305.85728\n",
            "19 13.465078       NaN              345.22940\n",
            "20 13.920518 0.7900889              455.63505\n",
            "21 18.207756       NaN              538.62823\n",
            "22 21.120705 1.2870058              714.72283\n",
            "\n",
            "[22 rows x 6 columns] \n"
          ]
        }
      ]
    },
    {
      "cell_type": "code",
      "source": [
        "m = h2o.get_best_model(aml,criterion = \"rmse\")\n",
        "h2o.performance(m, test) "
      ],
      "metadata": {
        "colab": {
          "base_uri": "https://localhost:8080/",
          "height": 144
        },
        "id": "XpPFlvBxdTQc",
        "outputId": "ec1935d1-68fb-4e89-fbb6-5d71fffc2ba8"
      },
      "execution_count": 10,
      "outputs": [
        {
          "output_type": "display_data",
          "data": {
            "text/plain": [
              "H2ORegressionMetrics: stackedensemble\n",
              "\n",
              "MSE:  65.41603\n",
              "RMSE:  8.088018\n",
              "MAE:  5.15483\n",
              "RMSLE:  NaN\n",
              "Mean Residual Deviance :  65.41603\n"
            ]
          },
          "metadata": {}
        }
      ]
    },
    {
      "cell_type": "code",
      "source": [
        "h2o.varimp(m)"
      ],
      "metadata": {
        "colab": {
          "base_uri": "https://localhost:8080/"
        },
        "id": "PO9fZRoot9TQ",
        "outputId": "8ab51d46-06d8-4403-d861-20499c89b6e7"
      },
      "execution_count": 15,
      "outputs": [
        {
          "output_type": "stream",
          "name": "stderr",
          "text": [
            "Warning message:\n",
            "“This model doesn't have variable importances”\n"
          ]
        }
      ]
    },
    {
      "cell_type": "code",
      "source": [
        "test = fread(\"test.csv\")\n",
        "h2o_test = as.h2o(test)"
      ],
      "metadata": {
        "colab": {
          "base_uri": "https://localhost:8080/"
        },
        "id": "hf2SQAfNfkat",
        "outputId": "bc009829-f297-41b9-9a85-903eafe9cf4f"
      },
      "execution_count": 11,
      "outputs": [
        {
          "output_type": "stream",
          "name": "stdout",
          "text": [
            "  |======================================================================| 100%\n"
          ]
        }
      ]
    },
    {
      "cell_type": "code",
      "source": [
        "fit = h2o.predict(object=m, newdata = h2o_test) %>% \n",
        "  as.data.table()"
      ],
      "metadata": {
        "colab": {
          "base_uri": "https://localhost:8080/"
        },
        "id": "CRkJJocVeYNw",
        "outputId": "88adee99-a226-4a3b-b448-889d3b1ba774"
      },
      "execution_count": 14,
      "outputs": [
        {
          "output_type": "stream",
          "name": "stdout",
          "text": [
            "  |======================================================================| 100%\n"
          ]
        }
      ]
    },
    {
      "cell_type": "code",
      "source": [],
      "metadata": {
        "id": "BQOSh47mhdKg"
      },
      "execution_count": null,
      "outputs": []
    },
    {
      "cell_type": "code",
      "source": [
        "fit %>% head"
      ],
      "metadata": {
        "colab": {
          "base_uri": "https://localhost:8080/",
          "height": 321
        },
        "id": "XMUY18bbhjVb",
        "outputId": "4deb2b75-138c-4a24-9c5f-bfeaa9fab652"
      },
      "execution_count": 16,
      "outputs": [
        {
          "output_type": "display_data",
          "data": {
            "text/html": [
              "<table class=\"dataframe\">\n",
              "<caption>A data.table: 6 × 1</caption>\n",
              "<thead>\n",
              "\t<tr><th scope=col>predict</th></tr>\n",
              "\t<tr><th scope=col>&lt;dbl&gt;</th></tr>\n",
              "</thead>\n",
              "<tbody>\n",
              "\t<tr><td>0.2634333</td></tr>\n",
              "\t<tr><td>2.6737726</td></tr>\n",
              "\t<tr><td>0.7841217</td></tr>\n",
              "\t<tr><td>2.2267504</td></tr>\n",
              "\t<tr><td>2.7831297</td></tr>\n",
              "\t<tr><td>4.4431662</td></tr>\n",
              "</tbody>\n",
              "</table>\n"
            ],
            "text/markdown": "\nA data.table: 6 × 1\n\n| predict &lt;dbl&gt; |\n|---|\n| 0.2634333 |\n| 2.6737726 |\n| 0.7841217 |\n| 2.2267504 |\n| 2.7831297 |\n| 4.4431662 |\n\n",
            "text/latex": "A data.table: 6 × 1\n\\begin{tabular}{l}\n predict\\\\\n <dbl>\\\\\n\\hline\n\t 0.2634333\\\\\n\t 2.6737726\\\\\n\t 0.7841217\\\\\n\t 2.2267504\\\\\n\t 2.7831297\\\\\n\t 4.4431662\\\\\n\\end{tabular}\n",
            "text/plain": [
              "  predict  \n",
              "1 0.2634333\n",
              "2 2.6737726\n",
              "3 0.7841217\n",
              "4 2.2267504\n",
              "5 2.7831297\n",
              "6 4.4431662"
            ]
          },
          "metadata": {}
        }
      ]
    },
    {
      "cell_type": "code",
      "source": [
        "test$predicted_weight_g = fit$predict"
      ],
      "metadata": {
        "id": "5IhI9zwUshsx"
      },
      "execution_count": 28,
      "outputs": []
    },
    {
      "cell_type": "code",
      "source": [
        "test %>% head"
      ],
      "metadata": {
        "colab": {
          "base_uri": "https://localhost:8080/",
          "height": 358
        },
        "id": "JHMfHnRSuQ0S",
        "outputId": "8555be19-4df0-4280-a34a-3fd587aea46b"
      },
      "execution_count": 18,
      "outputs": [
        {
          "output_type": "display_data",
          "data": {
            "text/html": [
              "<table class=\"dataframe\">\n",
              "<caption>A data.table: 6 × 18</caption>\n",
              "<thead>\n",
              "\t<tr><th scope=col>case</th><th scope=col>DAT</th><th scope=col>내부온도관측치</th><th scope=col>내부습도관측치</th><th scope=col>co2관측치</th><th scope=col>ec관측치</th><th scope=col>시간당분무량</th><th scope=col>일간누적분무량</th><th scope=col>시간당백색광량</th><th scope=col>일간누적백색광량</th><th scope=col>시간당적색광량</th><th scope=col>일간누적적색광량</th><th scope=col>시간당청색광량</th><th scope=col>일간누적청색광량</th><th scope=col>시간당총광량</th><th scope=col>일간누적총광량</th><th scope=col>new_obs_time</th><th scope=col>predicted_weight_g</th></tr>\n",
              "\t<tr><th scope=col>&lt;int&gt;</th><th scope=col>&lt;int&gt;</th><th scope=col>&lt;dbl&gt;</th><th scope=col>&lt;dbl&gt;</th><th scope=col>&lt;dbl&gt;</th><th scope=col>&lt;dbl&gt;</th><th scope=col>&lt;dbl&gt;</th><th scope=col>&lt;dbl&gt;</th><th scope=col>&lt;dbl&gt;</th><th scope=col>&lt;dbl&gt;</th><th scope=col>&lt;dbl&gt;</th><th scope=col>&lt;dbl&gt;</th><th scope=col>&lt;dbl&gt;</th><th scope=col>&lt;dbl&gt;</th><th scope=col>&lt;dbl&gt;</th><th scope=col>&lt;dbl&gt;</th><th scope=col>&lt;dbl&gt;</th><th scope=col>&lt;dbl&gt;</th></tr>\n",
              "</thead>\n",
              "<tbody>\n",
              "\t<tr><td>1</td><td>1</td><td>27.48973</td><td>61.37210</td><td>465.7229</td><td>1.037389</td><td>510.2554</td><td>6240.247</td><td>8728.198</td><td>102309.9</td><td>0</td><td>0</td><td>0</td><td>0</td><td>8728.198</td><td>102309.9</td><td>11.5</td><td>0.2634333</td></tr>\n",
              "\t<tr><td>1</td><td>2</td><td>28.66880</td><td>63.14802</td><td>463.6613</td><td>1.034501</td><td>383.9642</td><td>5089.535</td><td>8729.874</td><td>102297.6</td><td>0</td><td>0</td><td>0</td><td>0</td><td>8729.874</td><td>102297.6</td><td>11.5</td><td>2.6737726</td></tr>\n",
              "\t<tr><td>1</td><td>3</td><td>28.40740</td><td>61.04522</td><td>488.8831</td><td>1.033113</td><td>496.3237</td><td>6725.427</td><td>8734.386</td><td>102355.9</td><td>0</td><td>0</td><td>0</td><td>0</td><td>8734.386</td><td>102355.9</td><td>11.5</td><td>0.7841217</td></tr>\n",
              "\t<tr><td>1</td><td>4</td><td>28.16375</td><td>64.35632</td><td>494.3944</td><td>1.033793</td><td>512.3987</td><td>6597.636</td><td>8732.839</td><td>102322.9</td><td>0</td><td>0</td><td>0</td><td>0</td><td>8732.839</td><td>102322.9</td><td>11.5</td><td>2.2267504</td></tr>\n",
              "\t<tr><td>1</td><td>5</td><td>27.30222</td><td>66.82910</td><td>528.3493</td><td>1.038796</td><td>369.7646</td><td>4567.593</td><td>8734.515</td><td>102419.6</td><td>0</td><td>0</td><td>0</td><td>0</td><td>8734.515</td><td>102419.6</td><td>11.5</td><td>2.7831297</td></tr>\n",
              "\t<tr><td>1</td><td>6</td><td>28.20056</td><td>64.31313</td><td>492.3361</td><td>1.027787</td><td>480.3571</td><td>5475.910</td><td>8734.515</td><td>102388.5</td><td>0</td><td>0</td><td>0</td><td>0</td><td>8734.515</td><td>102388.5</td><td>11.5</td><td>4.4431662</td></tr>\n",
              "</tbody>\n",
              "</table>\n"
            ],
            "text/markdown": "\nA data.table: 6 × 18\n\n| case &lt;int&gt; | DAT &lt;int&gt; | 내부온도관측치 &lt;dbl&gt; | 내부습도관측치 &lt;dbl&gt; | co2관측치 &lt;dbl&gt; | ec관측치 &lt;dbl&gt; | 시간당분무량 &lt;dbl&gt; | 일간누적분무량 &lt;dbl&gt; | 시간당백색광량 &lt;dbl&gt; | 일간누적백색광량 &lt;dbl&gt; | 시간당적색광량 &lt;dbl&gt; | 일간누적적색광량 &lt;dbl&gt; | 시간당청색광량 &lt;dbl&gt; | 일간누적청색광량 &lt;dbl&gt; | 시간당총광량 &lt;dbl&gt; | 일간누적총광량 &lt;dbl&gt; | new_obs_time &lt;dbl&gt; | predicted_weight_g &lt;dbl&gt; |\n|---|---|---|---|---|---|---|---|---|---|---|---|---|---|---|---|---|---|\n| 1 | 1 | 27.48973 | 61.37210 | 465.7229 | 1.037389 | 510.2554 | 6240.247 | 8728.198 | 102309.9 | 0 | 0 | 0 | 0 | 8728.198 | 102309.9 | 11.5 | 0.2634333 |\n| 1 | 2 | 28.66880 | 63.14802 | 463.6613 | 1.034501 | 383.9642 | 5089.535 | 8729.874 | 102297.6 | 0 | 0 | 0 | 0 | 8729.874 | 102297.6 | 11.5 | 2.6737726 |\n| 1 | 3 | 28.40740 | 61.04522 | 488.8831 | 1.033113 | 496.3237 | 6725.427 | 8734.386 | 102355.9 | 0 | 0 | 0 | 0 | 8734.386 | 102355.9 | 11.5 | 0.7841217 |\n| 1 | 4 | 28.16375 | 64.35632 | 494.3944 | 1.033793 | 512.3987 | 6597.636 | 8732.839 | 102322.9 | 0 | 0 | 0 | 0 | 8732.839 | 102322.9 | 11.5 | 2.2267504 |\n| 1 | 5 | 27.30222 | 66.82910 | 528.3493 | 1.038796 | 369.7646 | 4567.593 | 8734.515 | 102419.6 | 0 | 0 | 0 | 0 | 8734.515 | 102419.6 | 11.5 | 2.7831297 |\n| 1 | 6 | 28.20056 | 64.31313 | 492.3361 | 1.027787 | 480.3571 | 5475.910 | 8734.515 | 102388.5 | 0 | 0 | 0 | 0 | 8734.515 | 102388.5 | 11.5 | 4.4431662 |\n\n",
            "text/latex": "A data.table: 6 × 18\n\\begin{tabular}{llllllllllllllllll}\n case & DAT & 내부온도관측치 & 내부습도관측치 & co2관측치 & ec관측치 & 시간당분무량 & 일간누적분무량 & 시간당백색광량 & 일간누적백색광량 & 시간당적색광량 & 일간누적적색광량 & 시간당청색광량 & 일간누적청색광량 & 시간당총광량 & 일간누적총광량 & new\\_obs\\_time & predicted\\_weight\\_g\\\\\n <int> & <int> & <dbl> & <dbl> & <dbl> & <dbl> & <dbl> & <dbl> & <dbl> & <dbl> & <dbl> & <dbl> & <dbl> & <dbl> & <dbl> & <dbl> & <dbl> & <dbl>\\\\\n\\hline\n\t 1 & 1 & 27.48973 & 61.37210 & 465.7229 & 1.037389 & 510.2554 & 6240.247 & 8728.198 & 102309.9 & 0 & 0 & 0 & 0 & 8728.198 & 102309.9 & 11.5 & 0.2634333\\\\\n\t 1 & 2 & 28.66880 & 63.14802 & 463.6613 & 1.034501 & 383.9642 & 5089.535 & 8729.874 & 102297.6 & 0 & 0 & 0 & 0 & 8729.874 & 102297.6 & 11.5 & 2.6737726\\\\\n\t 1 & 3 & 28.40740 & 61.04522 & 488.8831 & 1.033113 & 496.3237 & 6725.427 & 8734.386 & 102355.9 & 0 & 0 & 0 & 0 & 8734.386 & 102355.9 & 11.5 & 0.7841217\\\\\n\t 1 & 4 & 28.16375 & 64.35632 & 494.3944 & 1.033793 & 512.3987 & 6597.636 & 8732.839 & 102322.9 & 0 & 0 & 0 & 0 & 8732.839 & 102322.9 & 11.5 & 2.2267504\\\\\n\t 1 & 5 & 27.30222 & 66.82910 & 528.3493 & 1.038796 & 369.7646 & 4567.593 & 8734.515 & 102419.6 & 0 & 0 & 0 & 0 & 8734.515 & 102419.6 & 11.5 & 2.7831297\\\\\n\t 1 & 6 & 28.20056 & 64.31313 & 492.3361 & 1.027787 & 480.3571 & 5475.910 & 8734.515 & 102388.5 & 0 & 0 & 0 & 0 & 8734.515 & 102388.5 & 11.5 & 4.4431662\\\\\n\\end{tabular}\n",
            "text/plain": [
              "  case DAT 내부온도관측치 내부습도관측치 co2관측치 ec관측치 시간당분무량\n",
              "1 1    1   27.48973       61.37210       465.7229  1.037389 510.2554    \n",
              "2 1    2   28.66880       63.14802       463.6613  1.034501 383.9642    \n",
              "3 1    3   28.40740       61.04522       488.8831  1.033113 496.3237    \n",
              "4 1    4   28.16375       64.35632       494.3944  1.033793 512.3987    \n",
              "5 1    5   27.30222       66.82910       528.3493  1.038796 369.7646    \n",
              "6 1    6   28.20056       64.31313       492.3361  1.027787 480.3571    \n",
              "  일간누적분무량 시간당백색광량 일간누적백색광량 시간당적색광량\n",
              "1 6240.247       8728.198       102309.9         0             \n",
              "2 5089.535       8729.874       102297.6         0             \n",
              "3 6725.427       8734.386       102355.9         0             \n",
              "4 6597.636       8732.839       102322.9         0             \n",
              "5 4567.593       8734.515       102419.6         0             \n",
              "6 5475.910       8734.515       102388.5         0             \n",
              "  일간누적적색광량 시간당청색광량 일간누적청색광량 시간당총광량 일간누적총광량\n",
              "1 0                0              0                8728.198     102309.9      \n",
              "2 0                0              0                8729.874     102297.6      \n",
              "3 0                0              0                8734.386     102355.9      \n",
              "4 0                0              0                8732.839     102322.9      \n",
              "5 0                0              0                8734.515     102419.6      \n",
              "6 0                0              0                8734.515     102388.5      \n",
              "  new_obs_time predicted_weight_g\n",
              "1 11.5         0.2634333         \n",
              "2 11.5         2.6737726         \n",
              "3 11.5         0.7841217         \n",
              "4 11.5         2.2267504         \n",
              "5 11.5         2.7831297         \n",
              "6 11.5         4.4431662         "
            ]
          },
          "metadata": {}
        }
      ]
    },
    {
      "cell_type": "code",
      "source": [
        "test[predicted_weight_g<0,predicted_weight_g := abs(predicted_weight_g) ]"
      ],
      "metadata": {
        "id": "Z2utAxrBwAM5"
      },
      "execution_count": 29,
      "outputs": []
    },
    {
      "cell_type": "code",
      "source": [
        "#test %>% select(case, DAT, predicted_weight_g) -> tmp\n",
        "\n",
        "\n",
        "for (i in 1:5){\n",
        "  readr::write_csv(tmp %>% filter(case==i) %>% select(!case) , paste0('TEST_0',i,'.csv'))\n",
        "}\n",
        "\n",
        "#tmp %>% filter(case==1) %>% select(!case)\n",
        "#tmp %>% filter(case==1) %>% select(!case)\n",
        "#tmp %>% filter(case==1) %>% select(!case)\n",
        "#tmp %>% filter(case==1) %>% select(!case)\n",
        "#tmp %>% filter(case==1) %>% select(!case)\n",
        "\n",
        "\n",
        "\n",
        "\n",
        "#readr::write_csv(tmp %>% filter(case==i) %>% select(!case) , path= paste0('TEST_0',i,'.csv'))"
      ],
      "metadata": {
        "id": "IDW_KCLNuVeM"
      },
      "execution_count": 30,
      "outputs": []
    },
    {
      "cell_type": "code",
      "source": [],
      "metadata": {
        "id": "mDc_rfJRu0QQ"
      },
      "execution_count": null,
      "outputs": []
    }
  ],
  "metadata": {
    "accelerator": "GPU",
    "colab": {
      "machine_shape": "hm",
      "provenance": [],
      "authorship_tag": "ABX9TyNMG+SgQ7B0FjIFYiZTPkIW",
      "include_colab_link": true
    },
    "gpuClass": "standard",
    "kernelspec": {
      "display_name": "R",
      "name": "ir"
    },
    "language_info": {
      "name": "R"
    }
  },
  "nbformat": 4,
  "nbformat_minor": 0
}
