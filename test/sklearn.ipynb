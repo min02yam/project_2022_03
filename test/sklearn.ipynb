{
  "nbformat": 4,
  "nbformat_minor": 0,
  "metadata": {
    "colab": {
      "provenance": [],
      "authorship_tag": "ABX9TyMBQnLsao9kGc0Psmv8S12p",
      "include_colab_link": true
    },
    "kernelspec": {
      "name": "python3",
      "display_name": "Python 3"
    },
    "language_info": {
      "name": "python"
    }
  },
  "cells": [
    {
      "cell_type": "markdown",
      "metadata": {
        "id": "view-in-github",
        "colab_type": "text"
      },
      "source": [
        "<a href=\"https://colab.research.google.com/github/min02yam/project_2022_03/blob/main/test/sklearn.ipynb\" target=\"_parent\"><img src=\"https://colab.research.google.com/assets/colab-badge.svg\" alt=\"Open In Colab\"/></a>"
      ]
    },
    {
      "cell_type": "code",
      "execution_count": null,
      "metadata": {
        "colab": {
          "base_uri": "https://localhost:8080/"
        },
        "id": "r7dgvA_dWg71",
        "outputId": "2f57f38a-68c6-41ec-a1cb-88f0c78ba039"
      },
      "outputs": [
        {
          "output_type": "stream",
          "name": "stdout",
          "text": [
            "Drive already mounted at /content/drive; to attempt to forcibly remount, call drive.mount(\"/content/drive\", force_remount=True).\n"
          ]
        }
      ],
      "source": [
        "import warnings\n",
        "warnings.filterwarnings(action='ignore') \n",
        "from google.colab import drive\n",
        "drive.mount('/content/drive')"
      ]
    },
    {
      "cell_type": "code",
      "source": [
        "import pandas as pd\n",
        "train = pd.read_csv(\"/content/drive/MyDrive/2022_03/data/train_final.csv\")\n",
        "test = pd.read_csv(\"/content/drive/MyDrive/2022_03/data/test_final.csv\")\n",
        "submission = pd.read_csv(\"/content/drive/MyDrive/2022_03/data/sample_submission.csv\")\n",
        "\n",
        "feature = train.drop(['predicted_weight_g'],axis=1).columns\n",
        "target = 'predicted_weight_g'"
      ],
      "metadata": {
        "id": "con_Uqd1Wua4"
      },
      "execution_count": null,
      "outputs": []
    },
    {
      "cell_type": "code",
      "source": [
        "import random\n",
        "import os\n",
        "import numpy as np\n",
        "def set_seed(seed):\n",
        "    random.seed(seed)\n",
        "    os.environ['PYTHONHASHSEED'] = str(seed)\n",
        "    np.random.seed(seed)\n",
        "set_seed(49)"
      ],
      "metadata": {
        "id": "bYyp4peX_yn0"
      },
      "execution_count": null,
      "outputs": []
    },
    {
      "cell_type": "code",
      "source": [
        "from sklearn.preprocessing import MinMaxScaler, StandardScaler \n",
        "from sklearn.pipeline import Pipeline \n",
        "from sklearn.model_selection import GridSearchCV \n",
        "\n",
        "from sklearn.linear_model import LinearRegression, Ridge, RidgeCV, Lasso, LassoCV, ElasticNet, RANSACRegressor\n",
        "from sklearn.neighbors import KNeighborsRegressor\n",
        "from sklearn.svm import SVR\n",
        "from sklearn.tree import DecisionTreeRegressor\n",
        "from sklearn.ensemble import RandomForestRegressor, AdaBoostRegressor,GradientBoostingRegressor, VotingRegressor, StackingRegressor\n",
        "from sklearn.neural_network import MLPRegressor\n",
        "\n",
        "from xgboost import XGBRegressor\n",
        "from lightgbm import LGBMRegressor\n",
        "#from catboost import CatBoostRegressor\n",
        "\n",
        "pip = Pipeline(((\"preprocess\", MinMaxScaler()), (\"regressor\", LinearRegression()))) \n",
        "grid_parm = [\n",
        "    \n",
        "    {'preprocess': [StandardScaler(), MinMaxScaler()],\n",
        "     'regressor': [LinearRegression()]},\n",
        "     \n",
        "     {'preprocess': [StandardScaler(), MinMaxScaler()],\n",
        "     'regressor': [Ridge()],\n",
        "      'regressor__alpha': [0.1, 0.3, 1, 3, 5, 10, 15, 30, 50, 75]},\n",
        "     \n",
        "     {'preprocess': [StandardScaler(), MinMaxScaler()],\n",
        "     'regressor': [Lasso()]},\n",
        "\n",
        "    {'preprocess': [StandardScaler(), MinMaxScaler()],\n",
        "     'regressor': [ElasticNet()],\n",
        "     'regressor__alpha' : np.arange(1e-4,1e-3,1e-4).tolist(),\n",
        "     'regressor__l1_ratio': np.arange(0.1,1.0,0.1).tolist(),\n",
        "     'regressor__max_iter':[100000]\n",
        "\n",
        "    {'preprocess': [StandardScaler(), MinMaxScaler()],\n",
        "     'regressor': [KNeighborsRegressor()],\n",
        "     'regressor__n_neighbors': list(range(1,25,2))},\n",
        "     \n",
        "     {'preprocess': [StandardScaler(), MinMaxScaler()],\n",
        "     'regressor': [SVR()],\n",
        "     'regressor__kernel': ['linear', 'poly', 'rbf', 'sigmoid']},\n",
        "     \n",
        "     {'preprocess':[None],\n",
        "      'regressor': [DecisionTreeRegressor()],\n",
        "      'regressor__max_depth': list(range(2,15)),\n",
        "      'regressor__max_leaf_nodes': [5, 50, 500, 5000]},\n",
        "    \n",
        "     {'preprocess':[None],\n",
        "      'regressor': [RandomForestRegressor()],\n",
        "      'regressor__n_estimators': [50,100,150]},\n",
        "      \n",
        "      {'preprocess':[None],\n",
        "      'regressor': [AdaBoostRegressor()],\n",
        "      'regressor__n_estimators': [50,100,150]},     \n",
        "\n",
        "      {'preprocess':[None],\n",
        "      'regressor': [GradientBoostingRegressor()],\n",
        "      'regressor__n_estimators': [50,100,150]},\n",
        "      \n",
        "     {'preprocess':[None],\n",
        "      'regressor': [XGBRegressor()],\n",
        "      'regressor__objective' : ['reg:squarederror'],\n",
        "      'regressor__n_estimators': list(range(100, 3600,100)),\n",
        "      'regressor__max_depth': list(range(2,10)),\n",
        "      'regressor__eta' :  list(np.arange(1e-4,1e-3,1e-4)),\n",
        "      'regressor__subsample' : [0.5,0.6,0.7,0.8]},\n",
        "\n",
        "     {'preprocess':[None],\n",
        "      'regressor': [LGBMRegressor()]},\n",
        "\n",
        "     {'preprocess':[StandardScaler(), MinMaxScaler()],\n",
        "      'regressor': [MLPRegressor()],\n",
        "      'regressor__hidden_layer_sizes': [(100,),(100,100),(100,100,100)],  # 세번째, 히든레이어 세개, 노드개수 100개\n",
        "      'regressor__max_iter' :[1000]}      \n",
        "\n",
        "]\n",
        "\n",
        "from sklearn.inspection import permutation_importance \n",
        "from sklearn.metrics import mean_squared_error, make_scorer\n",
        "def root_mean_squared_error(y_test, y_pred):\n",
        "    y_test, y_pred = np.array(y_test), np.array(y_pred)\n",
        "    return mean_squared_error(y_test, y_pred,squared=False )\n",
        "\n",
        "grid_m = GridSearchCV(pip, \n",
        "                      grid_parm, \n",
        "                      cv = 5,\n",
        "                      return_train_score=True, \n",
        "                      verbose=3,\n",
        "                      scoring = root_mean_squared_error)\n",
        "\n",
        "grid_m.fit(train[feature], train[target])"
      ],
      "metadata": {
        "id": "3oItiE3YEoiJ"
      },
      "execution_count": null,
      "outputs": []
    },
    {
      "cell_type": "code",
      "source": [
        "grid_m.best_estimator_"
      ],
      "metadata": {
        "colab": {
          "base_uri": "https://localhost:8080/"
        },
        "id": "qUhs4tZPJXYB",
        "outputId": "bcd99827-b907-41e7-8727-ed769331d1ca"
      },
      "execution_count": null,
      "outputs": [
        {
          "output_type": "execute_result",
          "data": {
            "text/plain": [
              "Pipeline(steps=[('preprocess', MinMaxScaler()),\n",
              "                ('regressor',\n",
              "                 MLPRegressor(hidden_layer_sizes=(100, 100), max_iter=1000))])"
            ]
          },
          "metadata": {},
          "execution_count": 123
        }
      ]
    },
    {
      "cell_type": "code",
      "source": [
        "best_medel = grid_m.best_estimator_\n",
        "pred = best_medel.predict(test[feature])\n",
        "\n",
        "submission['predicted_weight_g'] = pred\n",
        "submission['case'] = test['case']\n",
        "\n",
        "submission.to_csv('mlp_10_0.csv', index=False)\n",
        "submission.head()"
      ],
      "metadata": {
        "id": "iAilxRl6ipeo"
      },
      "execution_count": null,
      "outputs": []
    },
    {
      "cell_type": "code",
      "source": [
        "from sklearn.inspection import permutation_importance \n",
        "from sklearn.metrics import mean_squared_error, make_scorer\n",
        "\n",
        "# RMSE\n",
        "def root_mean_squared_error(y_test, y_pred):\n",
        "    y_test, y_pred = np.array(y_test), np.array(y_pred)\n",
        "    return mean_squared_error(y_test, y_pred,squared=False )\n",
        "\n",
        "\n",
        "result = permutation_importance(best_medel, train[feature], train[target], scoring = make_scorer(root_mean_squared_error,greater_is_better=False),\n",
        "                            n_repeats=30)\n",
        "# Feature label\n",
        "Feature = train[feature] \n",
        "sorted_result = result.importances_mean.argsort()\n",
        "\n",
        "# DataFrame\n",
        "importances = pd.DataFrame(result.importances_mean[sorted_result], index=Feature.columns[sorted_result]).sort_values(0, ascending=False)   \n",
        "importances"
      ],
      "metadata": {
        "colab": {
          "base_uri": "https://localhost:8080/",
          "height": 551
        },
        "id": "um3fBmxTFEJt",
        "outputId": "908854ad-1ec3-49d3-f937-7a64390fa5d0"
      },
      "execution_count": null,
      "outputs": [
        {
          "output_type": "execute_result",
          "data": {
            "text/plain": [
              "                  0\n",
              "DAT       36.315215\n",
              "case       9.049442\n",
              "시간당청색광량    8.371577\n",
              "시간당분무량     7.343181\n",
              "일간누적적색광량   6.702268\n",
              "co2관측치     6.104581\n",
              "일간누적청색광량   5.764596\n",
              "시간당백색광량    5.328502\n",
              "내부습도관측치    5.241828\n",
              "일간누적백색광량   3.978451\n",
              "내부온도관측치    3.754668\n",
              "일간누적분무량    3.342263\n",
              "시간당적색광량    1.954962\n",
              "ec관측치      1.740740\n",
              "시간당총광량     1.047799\n",
              "일간누적총광량    0.530935"
            ],
            "text/html": [
              "\n",
              "  <div id=\"df-4bd9c47e-4628-4992-9f09-bfba6d09e378\">\n",
              "    <div class=\"colab-df-container\">\n",
              "      <div>\n",
              "<style scoped>\n",
              "    .dataframe tbody tr th:only-of-type {\n",
              "        vertical-align: middle;\n",
              "    }\n",
              "\n",
              "    .dataframe tbody tr th {\n",
              "        vertical-align: top;\n",
              "    }\n",
              "\n",
              "    .dataframe thead th {\n",
              "        text-align: right;\n",
              "    }\n",
              "</style>\n",
              "<table border=\"1\" class=\"dataframe\">\n",
              "  <thead>\n",
              "    <tr style=\"text-align: right;\">\n",
              "      <th></th>\n",
              "      <th>0</th>\n",
              "    </tr>\n",
              "  </thead>\n",
              "  <tbody>\n",
              "    <tr>\n",
              "      <th>DAT</th>\n",
              "      <td>36.315215</td>\n",
              "    </tr>\n",
              "    <tr>\n",
              "      <th>case</th>\n",
              "      <td>9.049442</td>\n",
              "    </tr>\n",
              "    <tr>\n",
              "      <th>시간당청색광량</th>\n",
              "      <td>8.371577</td>\n",
              "    </tr>\n",
              "    <tr>\n",
              "      <th>시간당분무량</th>\n",
              "      <td>7.343181</td>\n",
              "    </tr>\n",
              "    <tr>\n",
              "      <th>일간누적적색광량</th>\n",
              "      <td>6.702268</td>\n",
              "    </tr>\n",
              "    <tr>\n",
              "      <th>co2관측치</th>\n",
              "      <td>6.104581</td>\n",
              "    </tr>\n",
              "    <tr>\n",
              "      <th>일간누적청색광량</th>\n",
              "      <td>5.764596</td>\n",
              "    </tr>\n",
              "    <tr>\n",
              "      <th>시간당백색광량</th>\n",
              "      <td>5.328502</td>\n",
              "    </tr>\n",
              "    <tr>\n",
              "      <th>내부습도관측치</th>\n",
              "      <td>5.241828</td>\n",
              "    </tr>\n",
              "    <tr>\n",
              "      <th>일간누적백색광량</th>\n",
              "      <td>3.978451</td>\n",
              "    </tr>\n",
              "    <tr>\n",
              "      <th>내부온도관측치</th>\n",
              "      <td>3.754668</td>\n",
              "    </tr>\n",
              "    <tr>\n",
              "      <th>일간누적분무량</th>\n",
              "      <td>3.342263</td>\n",
              "    </tr>\n",
              "    <tr>\n",
              "      <th>시간당적색광량</th>\n",
              "      <td>1.954962</td>\n",
              "    </tr>\n",
              "    <tr>\n",
              "      <th>ec관측치</th>\n",
              "      <td>1.740740</td>\n",
              "    </tr>\n",
              "    <tr>\n",
              "      <th>시간당총광량</th>\n",
              "      <td>1.047799</td>\n",
              "    </tr>\n",
              "    <tr>\n",
              "      <th>일간누적총광량</th>\n",
              "      <td>0.530935</td>\n",
              "    </tr>\n",
              "  </tbody>\n",
              "</table>\n",
              "</div>\n",
              "      <button class=\"colab-df-convert\" onclick=\"convertToInteractive('df-4bd9c47e-4628-4992-9f09-bfba6d09e378')\"\n",
              "              title=\"Convert this dataframe to an interactive table.\"\n",
              "              style=\"display:none;\">\n",
              "        \n",
              "  <svg xmlns=\"http://www.w3.org/2000/svg\" height=\"24px\"viewBox=\"0 0 24 24\"\n",
              "       width=\"24px\">\n",
              "    <path d=\"M0 0h24v24H0V0z\" fill=\"none\"/>\n",
              "    <path d=\"M18.56 5.44l.94 2.06.94-2.06 2.06-.94-2.06-.94-.94-2.06-.94 2.06-2.06.94zm-11 1L8.5 8.5l.94-2.06 2.06-.94-2.06-.94L8.5 2.5l-.94 2.06-2.06.94zm10 10l.94 2.06.94-2.06 2.06-.94-2.06-.94-.94-2.06-.94 2.06-2.06.94z\"/><path d=\"M17.41 7.96l-1.37-1.37c-.4-.4-.92-.59-1.43-.59-.52 0-1.04.2-1.43.59L10.3 9.45l-7.72 7.72c-.78.78-.78 2.05 0 2.83L4 21.41c.39.39.9.59 1.41.59.51 0 1.02-.2 1.41-.59l7.78-7.78 2.81-2.81c.8-.78.8-2.07 0-2.86zM5.41 20L4 18.59l7.72-7.72 1.47 1.35L5.41 20z\"/>\n",
              "  </svg>\n",
              "      </button>\n",
              "      \n",
              "  <style>\n",
              "    .colab-df-container {\n",
              "      display:flex;\n",
              "      flex-wrap:wrap;\n",
              "      gap: 12px;\n",
              "    }\n",
              "\n",
              "    .colab-df-convert {\n",
              "      background-color: #E8F0FE;\n",
              "      border: none;\n",
              "      border-radius: 50%;\n",
              "      cursor: pointer;\n",
              "      display: none;\n",
              "      fill: #1967D2;\n",
              "      height: 32px;\n",
              "      padding: 0 0 0 0;\n",
              "      width: 32px;\n",
              "    }\n",
              "\n",
              "    .colab-df-convert:hover {\n",
              "      background-color: #E2EBFA;\n",
              "      box-shadow: 0px 1px 2px rgba(60, 64, 67, 0.3), 0px 1px 3px 1px rgba(60, 64, 67, 0.15);\n",
              "      fill: #174EA6;\n",
              "    }\n",
              "\n",
              "    [theme=dark] .colab-df-convert {\n",
              "      background-color: #3B4455;\n",
              "      fill: #D2E3FC;\n",
              "    }\n",
              "\n",
              "    [theme=dark] .colab-df-convert:hover {\n",
              "      background-color: #434B5C;\n",
              "      box-shadow: 0px 1px 3px 1px rgba(0, 0, 0, 0.15);\n",
              "      filter: drop-shadow(0px 1px 2px rgba(0, 0, 0, 0.3));\n",
              "      fill: #FFFFFF;\n",
              "    }\n",
              "  </style>\n",
              "\n",
              "      <script>\n",
              "        const buttonEl =\n",
              "          document.querySelector('#df-4bd9c47e-4628-4992-9f09-bfba6d09e378 button.colab-df-convert');\n",
              "        buttonEl.style.display =\n",
              "          google.colab.kernel.accessAllowed ? 'block' : 'none';\n",
              "\n",
              "        async function convertToInteractive(key) {\n",
              "          const element = document.querySelector('#df-4bd9c47e-4628-4992-9f09-bfba6d09e378');\n",
              "          const dataTable =\n",
              "            await google.colab.kernel.invokeFunction('convertToInteractive',\n",
              "                                                     [key], {});\n",
              "          if (!dataTable) return;\n",
              "\n",
              "          const docLinkHtml = 'Like what you see? Visit the ' +\n",
              "            '<a target=\"_blank\" href=https://colab.research.google.com/notebooks/data_table.ipynb>data table notebook</a>'\n",
              "            + ' to learn more about interactive tables.';\n",
              "          element.innerHTML = '';\n",
              "          dataTable['output_type'] = 'display_data';\n",
              "          await google.colab.output.renderOutput(dataTable, element);\n",
              "          const docLink = document.createElement('div');\n",
              "          docLink.innerHTML = docLinkHtml;\n",
              "          element.appendChild(docLink);\n",
              "        }\n",
              "      </script>\n",
              "    </div>\n",
              "  </div>\n",
              "  "
            ]
          },
          "metadata": {},
          "execution_count": 126
        }
      ]
    },
    {
      "cell_type": "code",
      "source": [
        "grid_m.best_params_"
      ],
      "metadata": {
        "id": "NyLiMiNtSZ8R"
      },
      "execution_count": null,
      "outputs": []
    },
    {
      "cell_type": "code",
      "source": [
        "best_medel = grid_m.best_estimator_"
      ],
      "metadata": {
        "id": "biVchb21dmzC"
      },
      "execution_count": null,
      "outputs": []
    },
    {
      "cell_type": "code",
      "source": [
        "grid_m.best_index_"
      ],
      "metadata": {
        "id": "949mkgr1a9IR"
      },
      "execution_count": null,
      "outputs": []
    },
    {
      "cell_type": "code",
      "source": [
        "param_grid "
      ],
      "metadata": {
        "colab": {
          "base_uri": "https://localhost:8080/"
        },
        "id": "r7NqD1vgQ6j_",
        "outputId": "6d9ad764-da3e-4237-89da-27572483a8a5"
      },
      "execution_count": null,
      "outputs": [
        {
          "output_type": "execute_result",
          "data": {
            "text/plain": [
              "{'alpha': array([0.0001, 0.0002, 0.0003, 0.0004, 0.0005, 0.0006, 0.0007, 0.0008,\n",
              "        0.0009]),\n",
              " 'l1_ratio': array([0.1, 0.2, 0.3, 0.4, 0.5, 0.6, 0.7, 0.8, 0.9]),\n",
              " 'max_iter': [100000]}"
            ]
          },
          "metadata": {},
          "execution_count": 139
        }
      ]
    },
    {
      "cell_type": "code",
      "source": [
        "grid_m.best_params_"
      ],
      "metadata": {
        "id": "2hq6-bT_Mibn"
      },
      "execution_count": null,
      "outputs": []
    },
    {
      "cell_type": "code",
      "source": [
        "grid_m.score"
      ],
      "metadata": {
        "id": "9j8TdZpnIDcm"
      },
      "execution_count": null,
      "outputs": []
    },
    {
      "cell_type": "code",
      "source": [
        "grid_m.best_score_"
      ],
      "metadata": {
        "id": "_WDPfDwJHxze"
      },
      "execution_count": null,
      "outputs": []
    },
    {
      "cell_type": "code",
      "source": [
        "grid_m.cv_results_"
      ],
      "metadata": {
        "id": "5WXiUNcZHpKn"
      },
      "execution_count": null,
      "outputs": []
    }
  ]
}